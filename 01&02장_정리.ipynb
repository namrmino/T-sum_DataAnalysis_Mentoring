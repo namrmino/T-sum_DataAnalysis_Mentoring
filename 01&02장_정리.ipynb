{
 "cells": [
  {
   "cell_type": "markdown",
   "metadata": {},
   "source": [
    "# 01. 준비하기\n",
    "## 파이썬 맛보기"
   ]
  },
  {
   "cell_type": "code",
   "execution_count": 1,
   "metadata": {},
   "outputs": [
    {
     "name": "stdout",
     "output_type": "stream",
     "text": [
      "안녕하세요\n"
     ]
    }
   ],
   "source": [
    "print(\"안녕하세요\")"
   ]
  },
  {
   "cell_type": "code",
   "execution_count": 2,
   "metadata": {},
   "outputs": [
    {
     "name": "stdout",
     "output_type": "stream",
     "text": [
      "Hi\n"
     ]
    }
   ],
   "source": [
    "print(\"Hi\")"
   ]
  },
  {
   "cell_type": "code",
   "execution_count": 3,
   "metadata": {},
   "outputs": [],
   "source": [
    "# 주석"
   ]
  },
  {
   "cell_type": "code",
   "execution_count": 4,
   "metadata": {},
   "outputs": [
    {
     "name": "stdout",
     "output_type": "stream",
     "text": [
      "귤/사과/배\n"
     ]
    }
   ],
   "source": [
    "print('귤','사과','배', sep='/')\n",
    "# 이때 sep을 print의 매개변수(parameter)라고 한다."
   ]
  },
  {
   "cell_type": "code",
   "execution_count": 5,
   "metadata": {},
   "outputs": [
    {
     "name": "stdout",
     "output_type": "stream",
     "text": [
      "바나나\n",
      "사과\n",
      "딸기\n",
      "배\n",
      "감\n"
     ]
    }
   ],
   "source": [
    "fruits = ['바나나','사과','딸기','배','감']\n",
    "for fruit in fruits:\n",
    "    print(fruit)"
   ]
  },
  {
   "cell_type": "code",
   "execution_count": 6,
   "metadata": {},
   "outputs": [
    {
     "name": "stdout",
     "output_type": "stream",
     "text": [
      "사과망고, 파인애플\n"
     ]
    }
   ],
   "source": [
    "a = '사과'\n",
    "b = '망고, 파인애플'\n",
    "c = a+b\n",
    "print(c)"
   ]
  },
  {
   "cell_type": "code",
   "execution_count": 9,
   "metadata": {},
   "outputs": [
    {
     "name": "stdout",
     "output_type": "stream",
     "text": [
      "**********\n"
     ]
    }
   ],
   "source": [
    "print('*'*10)"
   ]
  },
  {
   "cell_type": "code",
   "execution_count": 10,
   "metadata": {},
   "outputs": [
    {
     "name": "stdout",
     "output_type": "stream",
     "text": [
      "2월 20일은 일요일입니다\n"
     ]
    }
   ],
   "source": [
    "month = \"2월\"\n",
    "day = \"20일\"\n",
    "say = \"{} {}은 일요일입니다\".format(month, day)\n",
    "print(say)"
   ]
  },
  {
   "cell_type": "markdown",
   "metadata": {},
   "source": [
    "# 02. 데이터 분석 기초\n",
    "## Pandas 기초"
   ]
  },
  {
   "cell_type": "code",
   "execution_count": 2,
   "metadata": {},
   "outputs": [],
   "source": [
    "import pandas as pd"
   ]
  },
  {
   "cell_type": "code",
   "execution_count": 3,
   "metadata": {},
   "outputs": [
    {
     "data": {
      "text/html": [
       "<div>\n",
       "<style scoped>\n",
       "    .dataframe tbody tr th:only-of-type {\n",
       "        vertical-align: middle;\n",
       "    }\n",
       "\n",
       "    .dataframe tbody tr th {\n",
       "        vertical-align: top;\n",
       "    }\n",
       "\n",
       "    .dataframe thead th {\n",
       "        text-align: right;\n",
       "    }\n",
       "</style>\n",
       "<table border=\"1\" class=\"dataframe\">\n",
       "  <thead>\n",
       "    <tr style=\"text-align: right;\">\n",
       "      <th></th>\n",
       "      <th>국적코드</th>\n",
       "      <th>성별</th>\n",
       "      <th>입국객수</th>\n",
       "    </tr>\n",
       "  </thead>\n",
       "  <tbody>\n",
       "    <tr>\n",
       "      <th>0</th>\n",
       "      <td>A01</td>\n",
       "      <td>남성</td>\n",
       "      <td>106320</td>\n",
       "    </tr>\n",
       "    <tr>\n",
       "      <th>1</th>\n",
       "      <td>A01</td>\n",
       "      <td>여성</td>\n",
       "      <td>191436</td>\n",
       "    </tr>\n",
       "    <tr>\n",
       "      <th>2</th>\n",
       "      <td>A31</td>\n",
       "      <td>남성</td>\n",
       "      <td>319</td>\n",
       "    </tr>\n",
       "  </tbody>\n",
       "</table>\n",
       "</div>"
      ],
      "text/plain": [
       "  국적코드  성별    입국객수\n",
       "0  A01  남성  106320\n",
       "1  A01  여성  191436\n",
       "2  A31  남성     319"
      ]
     },
     "execution_count": 3,
     "metadata": {},
     "output_type": "execute_result"
    }
   ],
   "source": [
    "sample_1 = pd.read_excel('./data/2_Data_Analysis_Basic/files/sample_1.xlsx',\n",
    "                        header = 1,\n",
    "                        skipfooter = 2,\n",
    "                        usecols = 'A:C')\n",
    "sample_1.head(3)"
   ]
  },
  {
   "cell_type": "code",
   "execution_count": 4,
   "metadata": {},
   "outputs": [
    {
     "data": {
      "text/html": [
       "<div>\n",
       "<style scoped>\n",
       "    .dataframe tbody tr th:only-of-type {\n",
       "        vertical-align: middle;\n",
       "    }\n",
       "\n",
       "    .dataframe tbody tr th {\n",
       "        vertical-align: top;\n",
       "    }\n",
       "\n",
       "    .dataframe thead th {\n",
       "        text-align: right;\n",
       "    }\n",
       "</style>\n",
       "<table border=\"1\" class=\"dataframe\">\n",
       "  <thead>\n",
       "    <tr style=\"text-align: right;\">\n",
       "      <th></th>\n",
       "      <th>국적코드</th>\n",
       "      <th>성별</th>\n",
       "      <th>입국객수</th>\n",
       "    </tr>\n",
       "  </thead>\n",
       "  <tbody>\n",
       "    <tr>\n",
       "      <th>3</th>\n",
       "      <td>A31</td>\n",
       "      <td>여성</td>\n",
       "      <td>42</td>\n",
       "    </tr>\n",
       "    <tr>\n",
       "      <th>4</th>\n",
       "      <td>A18</td>\n",
       "      <td>남성</td>\n",
       "      <td>158912</td>\n",
       "    </tr>\n",
       "    <tr>\n",
       "      <th>5</th>\n",
       "      <td>A18</td>\n",
       "      <td>여성</td>\n",
       "      <td>232943</td>\n",
       "    </tr>\n",
       "  </tbody>\n",
       "</table>\n",
       "</div>"
      ],
      "text/plain": [
       "  국적코드  성별    입국객수\n",
       "3  A31  여성      42\n",
       "4  A18  남성  158912\n",
       "5  A18  여성  232943"
      ]
     },
     "execution_count": 4,
     "metadata": {},
     "output_type": "execute_result"
    }
   ],
   "source": [
    "sample_1.tail(3)"
   ]
  },
  {
   "cell_type": "code",
   "execution_count": 5,
   "metadata": {},
   "outputs": [
    {
     "name": "stdout",
     "output_type": "stream",
     "text": [
      "<class 'pandas.core.frame.DataFrame'>\n",
      "RangeIndex: 6 entries, 0 to 5\n",
      "Data columns (total 3 columns):\n",
      " #   Column  Non-Null Count  Dtype \n",
      "---  ------  --------------  ----- \n",
      " 0   국적코드    6 non-null      object\n",
      " 1   성별      6 non-null      object\n",
      " 2   입국객수    6 non-null      int64 \n",
      "dtypes: int64(1), object(2)\n",
      "memory usage: 272.0+ bytes\n"
     ]
    }
   ],
   "source": [
    "sample_1.info()"
   ]
  },
  {
   "cell_type": "code",
   "execution_count": 6,
   "metadata": {},
   "outputs": [
    {
     "data": {
      "text/html": [
       "<div>\n",
       "<style scoped>\n",
       "    .dataframe tbody tr th:only-of-type {\n",
       "        vertical-align: middle;\n",
       "    }\n",
       "\n",
       "    .dataframe tbody tr th {\n",
       "        vertical-align: top;\n",
       "    }\n",
       "\n",
       "    .dataframe thead th {\n",
       "        text-align: right;\n",
       "    }\n",
       "</style>\n",
       "<table border=\"1\" class=\"dataframe\">\n",
       "  <thead>\n",
       "    <tr style=\"text-align: right;\">\n",
       "      <th></th>\n",
       "      <th>입국객수</th>\n",
       "    </tr>\n",
       "  </thead>\n",
       "  <tbody>\n",
       "    <tr>\n",
       "      <th>count</th>\n",
       "      <td>6.000000</td>\n",
       "    </tr>\n",
       "    <tr>\n",
       "      <th>mean</th>\n",
       "      <td>114995.333333</td>\n",
       "    </tr>\n",
       "    <tr>\n",
       "      <th>std</th>\n",
       "      <td>98105.752006</td>\n",
       "    </tr>\n",
       "    <tr>\n",
       "      <th>min</th>\n",
       "      <td>42.000000</td>\n",
       "    </tr>\n",
       "    <tr>\n",
       "      <th>25%</th>\n",
       "      <td>26819.250000</td>\n",
       "    </tr>\n",
       "    <tr>\n",
       "      <th>50%</th>\n",
       "      <td>132616.000000</td>\n",
       "    </tr>\n",
       "    <tr>\n",
       "      <th>75%</th>\n",
       "      <td>183305.000000</td>\n",
       "    </tr>\n",
       "    <tr>\n",
       "      <th>max</th>\n",
       "      <td>232943.000000</td>\n",
       "    </tr>\n",
       "  </tbody>\n",
       "</table>\n",
       "</div>"
      ],
      "text/plain": [
       "                입국객수\n",
       "count       6.000000\n",
       "mean   114995.333333\n",
       "std     98105.752006\n",
       "min        42.000000\n",
       "25%     26819.250000\n",
       "50%    132616.000000\n",
       "75%    183305.000000\n",
       "max    232943.000000"
      ]
     },
     "execution_count": 6,
     "metadata": {},
     "output_type": "execute_result"
    }
   ],
   "source": [
    "sample_1.describe()"
   ]
  },
  {
   "cell_type": "code",
   "execution_count": 7,
   "metadata": {},
   "outputs": [
    {
     "data": {
      "text/plain": [
       "0    106320\n",
       "1    191436\n",
       "2       319\n",
       "3        42\n",
       "4    158912\n",
       "5    232943\n",
       "Name: 입국객수, dtype: int64"
      ]
     },
     "execution_count": 7,
     "metadata": {},
     "output_type": "execute_result"
    }
   ],
   "source": [
    "sample_1['입국객수']"
   ]
  },
  {
   "cell_type": "code",
   "execution_count": 8,
   "metadata": {},
   "outputs": [
    {
     "data": {
      "text/html": [
       "<div>\n",
       "<style scoped>\n",
       "    .dataframe tbody tr th:only-of-type {\n",
       "        vertical-align: middle;\n",
       "    }\n",
       "\n",
       "    .dataframe tbody tr th {\n",
       "        vertical-align: top;\n",
       "    }\n",
       "\n",
       "    .dataframe thead th {\n",
       "        text-align: right;\n",
       "    }\n",
       "</style>\n",
       "<table border=\"1\" class=\"dataframe\">\n",
       "  <thead>\n",
       "    <tr style=\"text-align: right;\">\n",
       "      <th></th>\n",
       "      <th>국적코드</th>\n",
       "      <th>입국객수</th>\n",
       "    </tr>\n",
       "  </thead>\n",
       "  <tbody>\n",
       "    <tr>\n",
       "      <th>0</th>\n",
       "      <td>A01</td>\n",
       "      <td>106320</td>\n",
       "    </tr>\n",
       "    <tr>\n",
       "      <th>1</th>\n",
       "      <td>A01</td>\n",
       "      <td>191436</td>\n",
       "    </tr>\n",
       "    <tr>\n",
       "      <th>2</th>\n",
       "      <td>A31</td>\n",
       "      <td>319</td>\n",
       "    </tr>\n",
       "    <tr>\n",
       "      <th>3</th>\n",
       "      <td>A31</td>\n",
       "      <td>42</td>\n",
       "    </tr>\n",
       "    <tr>\n",
       "      <th>4</th>\n",
       "      <td>A18</td>\n",
       "      <td>158912</td>\n",
       "    </tr>\n",
       "    <tr>\n",
       "      <th>5</th>\n",
       "      <td>A18</td>\n",
       "      <td>232943</td>\n",
       "    </tr>\n",
       "  </tbody>\n",
       "</table>\n",
       "</div>"
      ],
      "text/plain": [
       "  국적코드    입국객수\n",
       "0  A01  106320\n",
       "1  A01  191436\n",
       "2  A31     319\n",
       "3  A31      42\n",
       "4  A18  158912\n",
       "5  A18  232943"
      ]
     },
     "execution_count": 8,
     "metadata": {},
     "output_type": "execute_result"
    }
   ],
   "source": [
    "sample_1[['국적코드','입국객수']]"
   ]
  },
  {
   "cell_type": "code",
   "execution_count": 9,
   "metadata": {},
   "outputs": [],
   "source": [
    "sample_1['기준년월']='2019-11'"
   ]
  },
  {
   "cell_type": "code",
   "execution_count": 10,
   "metadata": {},
   "outputs": [
    {
     "data": {
      "text/html": [
       "<div>\n",
       "<style scoped>\n",
       "    .dataframe tbody tr th:only-of-type {\n",
       "        vertical-align: middle;\n",
       "    }\n",
       "\n",
       "    .dataframe tbody tr th {\n",
       "        vertical-align: top;\n",
       "    }\n",
       "\n",
       "    .dataframe thead th {\n",
       "        text-align: right;\n",
       "    }\n",
       "</style>\n",
       "<table border=\"1\" class=\"dataframe\">\n",
       "  <thead>\n",
       "    <tr style=\"text-align: right;\">\n",
       "      <th></th>\n",
       "      <th>국적코드</th>\n",
       "      <th>성별</th>\n",
       "      <th>입국객수</th>\n",
       "      <th>기준년월</th>\n",
       "    </tr>\n",
       "  </thead>\n",
       "  <tbody>\n",
       "    <tr>\n",
       "      <th>0</th>\n",
       "      <td>A01</td>\n",
       "      <td>남성</td>\n",
       "      <td>106320</td>\n",
       "      <td>2019-11</td>\n",
       "    </tr>\n",
       "    <tr>\n",
       "      <th>1</th>\n",
       "      <td>A01</td>\n",
       "      <td>여성</td>\n",
       "      <td>191436</td>\n",
       "      <td>2019-11</td>\n",
       "    </tr>\n",
       "    <tr>\n",
       "      <th>2</th>\n",
       "      <td>A31</td>\n",
       "      <td>남성</td>\n",
       "      <td>319</td>\n",
       "      <td>2019-11</td>\n",
       "    </tr>\n",
       "    <tr>\n",
       "      <th>3</th>\n",
       "      <td>A31</td>\n",
       "      <td>여성</td>\n",
       "      <td>42</td>\n",
       "      <td>2019-11</td>\n",
       "    </tr>\n",
       "    <tr>\n",
       "      <th>4</th>\n",
       "      <td>A18</td>\n",
       "      <td>남성</td>\n",
       "      <td>158912</td>\n",
       "      <td>2019-11</td>\n",
       "    </tr>\n",
       "    <tr>\n",
       "      <th>5</th>\n",
       "      <td>A18</td>\n",
       "      <td>여성</td>\n",
       "      <td>232943</td>\n",
       "      <td>2019-11</td>\n",
       "    </tr>\n",
       "  </tbody>\n",
       "</table>\n",
       "</div>"
      ],
      "text/plain": [
       "  국적코드  성별    입국객수     기준년월\n",
       "0  A01  남성  106320  2019-11\n",
       "1  A01  여성  191436  2019-11\n",
       "2  A31  남성     319  2019-11\n",
       "3  A31  여성      42  2019-11\n",
       "4  A18  남성  158912  2019-11\n",
       "5  A18  여성  232943  2019-11"
      ]
     },
     "execution_count": 10,
     "metadata": {},
     "output_type": "execute_result"
    }
   ],
   "source": [
    "sample_1"
   ]
  },
  {
   "cell_type": "code",
   "execution_count": 11,
   "metadata": {},
   "outputs": [
    {
     "data": {
      "text/plain": [
       "0     True\n",
       "1    False\n",
       "2     True\n",
       "3    False\n",
       "4     True\n",
       "5    False\n",
       "Name: 성별, dtype: bool"
      ]
     },
     "execution_count": 11,
     "metadata": {},
     "output_type": "execute_result"
    }
   ],
   "source": [
    "condition = (sample_1['성별']=='남성')\n",
    "condition"
   ]
  },
  {
   "cell_type": "code",
   "execution_count": 12,
   "metadata": {},
   "outputs": [
    {
     "data": {
      "text/html": [
       "<div>\n",
       "<style scoped>\n",
       "    .dataframe tbody tr th:only-of-type {\n",
       "        vertical-align: middle;\n",
       "    }\n",
       "\n",
       "    .dataframe tbody tr th {\n",
       "        vertical-align: top;\n",
       "    }\n",
       "\n",
       "    .dataframe thead th {\n",
       "        text-align: right;\n",
       "    }\n",
       "</style>\n",
       "<table border=\"1\" class=\"dataframe\">\n",
       "  <thead>\n",
       "    <tr style=\"text-align: right;\">\n",
       "      <th></th>\n",
       "      <th>국적코드</th>\n",
       "      <th>성별</th>\n",
       "      <th>입국객수</th>\n",
       "      <th>기준년월</th>\n",
       "    </tr>\n",
       "  </thead>\n",
       "  <tbody>\n",
       "    <tr>\n",
       "      <th>0</th>\n",
       "      <td>A01</td>\n",
       "      <td>남성</td>\n",
       "      <td>106320</td>\n",
       "      <td>2019-11</td>\n",
       "    </tr>\n",
       "    <tr>\n",
       "      <th>2</th>\n",
       "      <td>A31</td>\n",
       "      <td>남성</td>\n",
       "      <td>319</td>\n",
       "      <td>2019-11</td>\n",
       "    </tr>\n",
       "    <tr>\n",
       "      <th>4</th>\n",
       "      <td>A18</td>\n",
       "      <td>남성</td>\n",
       "      <td>158912</td>\n",
       "      <td>2019-11</td>\n",
       "    </tr>\n",
       "  </tbody>\n",
       "</table>\n",
       "</div>"
      ],
      "text/plain": [
       "  국적코드  성별    입국객수     기준년월\n",
       "0  A01  남성  106320  2019-11\n",
       "2  A31  남성     319  2019-11\n",
       "4  A18  남성  158912  2019-11"
      ]
     },
     "execution_count": 12,
     "metadata": {},
     "output_type": "execute_result"
    }
   ],
   "source": [
    "sample_1[condition]"
   ]
  },
  {
   "cell_type": "code",
   "execution_count": 13,
   "metadata": {},
   "outputs": [
    {
     "data": {
      "text/html": [
       "<div>\n",
       "<style scoped>\n",
       "    .dataframe tbody tr th:only-of-type {\n",
       "        vertical-align: middle;\n",
       "    }\n",
       "\n",
       "    .dataframe tbody tr th {\n",
       "        vertical-align: top;\n",
       "    }\n",
       "\n",
       "    .dataframe thead th {\n",
       "        text-align: right;\n",
       "    }\n",
       "</style>\n",
       "<table border=\"1\" class=\"dataframe\">\n",
       "  <thead>\n",
       "    <tr style=\"text-align: right;\">\n",
       "      <th></th>\n",
       "      <th>국적코드</th>\n",
       "      <th>성별</th>\n",
       "      <th>입국객수</th>\n",
       "      <th>기준년월</th>\n",
       "    </tr>\n",
       "  </thead>\n",
       "  <tbody>\n",
       "    <tr>\n",
       "      <th>1</th>\n",
       "      <td>A01</td>\n",
       "      <td>여성</td>\n",
       "      <td>191436</td>\n",
       "      <td>2019-11</td>\n",
       "    </tr>\n",
       "    <tr>\n",
       "      <th>4</th>\n",
       "      <td>A18</td>\n",
       "      <td>남성</td>\n",
       "      <td>158912</td>\n",
       "      <td>2019-11</td>\n",
       "    </tr>\n",
       "    <tr>\n",
       "      <th>5</th>\n",
       "      <td>A18</td>\n",
       "      <td>여성</td>\n",
       "      <td>232943</td>\n",
       "      <td>2019-11</td>\n",
       "    </tr>\n",
       "  </tbody>\n",
       "</table>\n",
       "</div>"
      ],
      "text/plain": [
       "  국적코드  성별    입국객수     기준년월\n",
       "1  A01  여성  191436  2019-11\n",
       "4  A18  남성  158912  2019-11\n",
       "5  A18  여성  232943  2019-11"
      ]
     },
     "execution_count": 13,
     "metadata": {},
     "output_type": "execute_result"
    }
   ],
   "source": [
    "# 중요\n",
    "# 조건으로 행 추출하기\n",
    "condition = (sample_1['입국객수']>=150000)\n",
    "sample_1[condition]"
   ]
  },
  {
   "cell_type": "code",
   "execution_count": 14,
   "metadata": {},
   "outputs": [
    {
     "data": {
      "text/html": [
       "<div>\n",
       "<style scoped>\n",
       "    .dataframe tbody tr th:only-of-type {\n",
       "        vertical-align: middle;\n",
       "    }\n",
       "\n",
       "    .dataframe tbody tr th {\n",
       "        vertical-align: top;\n",
       "    }\n",
       "\n",
       "    .dataframe thead th {\n",
       "        text-align: right;\n",
       "    }\n",
       "</style>\n",
       "<table border=\"1\" class=\"dataframe\">\n",
       "  <thead>\n",
       "    <tr style=\"text-align: right;\">\n",
       "      <th></th>\n",
       "      <th>국적코드</th>\n",
       "      <th>성별</th>\n",
       "      <th>입국객수</th>\n",
       "      <th>기준년월</th>\n",
       "    </tr>\n",
       "  </thead>\n",
       "  <tbody>\n",
       "    <tr>\n",
       "      <th>0</th>\n",
       "      <td>A01</td>\n",
       "      <td>남성</td>\n",
       "      <td>106320</td>\n",
       "      <td>2019-11</td>\n",
       "    </tr>\n",
       "    <tr>\n",
       "      <th>1</th>\n",
       "      <td>A01</td>\n",
       "      <td>여성</td>\n",
       "      <td>191436</td>\n",
       "      <td>2019-11</td>\n",
       "    </tr>\n",
       "    <tr>\n",
       "      <th>2</th>\n",
       "      <td>A31</td>\n",
       "      <td>남성</td>\n",
       "      <td>319</td>\n",
       "      <td>2019-11</td>\n",
       "    </tr>\n",
       "    <tr>\n",
       "      <th>3</th>\n",
       "      <td>A31</td>\n",
       "      <td>여성</td>\n",
       "      <td>42</td>\n",
       "      <td>2019-11</td>\n",
       "    </tr>\n",
       "    <tr>\n",
       "      <th>4</th>\n",
       "      <td>A18</td>\n",
       "      <td>남성</td>\n",
       "      <td>158912</td>\n",
       "      <td>2019-11</td>\n",
       "    </tr>\n",
       "    <tr>\n",
       "      <th>5</th>\n",
       "      <td>A18</td>\n",
       "      <td>여성</td>\n",
       "      <td>232943</td>\n",
       "      <td>2019-11</td>\n",
       "    </tr>\n",
       "  </tbody>\n",
       "</table>\n",
       "</div>"
      ],
      "text/plain": [
       "  국적코드  성별    입국객수     기준년월\n",
       "0  A01  남성  106320  2019-11\n",
       "1  A01  여성  191436  2019-11\n",
       "2  A31  남성     319  2019-11\n",
       "3  A31  여성      42  2019-11\n",
       "4  A18  남성  158912  2019-11\n",
       "5  A18  여성  232943  2019-11"
      ]
     },
     "execution_count": 14,
     "metadata": {},
     "output_type": "execute_result"
    }
   ],
   "source": [
    "sample_1"
   ]
  },
  {
   "cell_type": "code",
   "execution_count": 15,
   "metadata": {},
   "outputs": [],
   "source": [
    "# 중요\n",
    "# 다중조건으로 행 추출하기\n",
    "conditions = (sample_1['성별']=='남성')&(sample_1['입국객수']>=150000)"
   ]
  },
  {
   "cell_type": "code",
   "execution_count": 16,
   "metadata": {},
   "outputs": [
    {
     "data": {
      "text/html": [
       "<div>\n",
       "<style scoped>\n",
       "    .dataframe tbody tr th:only-of-type {\n",
       "        vertical-align: middle;\n",
       "    }\n",
       "\n",
       "    .dataframe tbody tr th {\n",
       "        vertical-align: top;\n",
       "    }\n",
       "\n",
       "    .dataframe thead th {\n",
       "        text-align: right;\n",
       "    }\n",
       "</style>\n",
       "<table border=\"1\" class=\"dataframe\">\n",
       "  <thead>\n",
       "    <tr style=\"text-align: right;\">\n",
       "      <th></th>\n",
       "      <th>국적코드</th>\n",
       "      <th>성별</th>\n",
       "      <th>입국객수</th>\n",
       "      <th>기준년월</th>\n",
       "    </tr>\n",
       "  </thead>\n",
       "  <tbody>\n",
       "    <tr>\n",
       "      <th>4</th>\n",
       "      <td>A18</td>\n",
       "      <td>남성</td>\n",
       "      <td>158912</td>\n",
       "      <td>2019-11</td>\n",
       "    </tr>\n",
       "  </tbody>\n",
       "</table>\n",
       "</div>"
      ],
      "text/plain": [
       "  국적코드  성별    입국객수     기준년월\n",
       "4  A18  남성  158912  2019-11"
      ]
     },
     "execution_count": 16,
     "metadata": {},
     "output_type": "execute_result"
    }
   ],
   "source": [
    "sample_1[conditions]"
   ]
  },
  {
   "cell_type": "code",
   "execution_count": 17,
   "metadata": {},
   "outputs": [
    {
     "data": {
      "text/html": [
       "<div>\n",
       "<style scoped>\n",
       "    .dataframe tbody tr th:only-of-type {\n",
       "        vertical-align: middle;\n",
       "    }\n",
       "\n",
       "    .dataframe tbody tr th {\n",
       "        vertical-align: top;\n",
       "    }\n",
       "\n",
       "    .dataframe thead th {\n",
       "        text-align: right;\n",
       "    }\n",
       "</style>\n",
       "<table border=\"1\" class=\"dataframe\">\n",
       "  <thead>\n",
       "    <tr style=\"text-align: right;\">\n",
       "      <th></th>\n",
       "      <th>국적코드</th>\n",
       "      <th>성별</th>\n",
       "      <th>입국객수</th>\n",
       "      <th>기준년월</th>\n",
       "    </tr>\n",
       "  </thead>\n",
       "  <tbody>\n",
       "    <tr>\n",
       "      <th>4</th>\n",
       "      <td>A18</td>\n",
       "      <td>남성</td>\n",
       "      <td>158912</td>\n",
       "      <td>2019-11</td>\n",
       "    </tr>\n",
       "  </tbody>\n",
       "</table>\n",
       "</div>"
      ],
      "text/plain": [
       "  국적코드  성별    입국객수     기준년월\n",
       "4  A18  남성  158912  2019-11"
      ]
     },
     "execution_count": 17,
     "metadata": {},
     "output_type": "execute_result"
    }
   ],
   "source": [
    "conditions = (sample_1['성별']=='남성')\\\n",
    "&(sample_1['입국객수']>=150000)\n",
    "sample_1[conditions]"
   ]
  },
  {
   "cell_type": "code",
   "execution_count": 18,
   "metadata": {},
   "outputs": [
    {
     "data": {
      "text/html": [
       "<div>\n",
       "<style scoped>\n",
       "    .dataframe tbody tr th:only-of-type {\n",
       "        vertical-align: middle;\n",
       "    }\n",
       "\n",
       "    .dataframe tbody tr th {\n",
       "        vertical-align: top;\n",
       "    }\n",
       "\n",
       "    .dataframe thead th {\n",
       "        text-align: right;\n",
       "    }\n",
       "</style>\n",
       "<table border=\"1\" class=\"dataframe\">\n",
       "  <thead>\n",
       "    <tr style=\"text-align: right;\">\n",
       "      <th></th>\n",
       "      <th>국적코드</th>\n",
       "      <th>성별</th>\n",
       "      <th>입국객수</th>\n",
       "      <th>기준년월</th>\n",
       "    </tr>\n",
       "  </thead>\n",
       "  <tbody>\n",
       "    <tr>\n",
       "      <th>0</th>\n",
       "      <td>A01</td>\n",
       "      <td>남성</td>\n",
       "      <td>106320</td>\n",
       "      <td>2019-11</td>\n",
       "    </tr>\n",
       "    <tr>\n",
       "      <th>1</th>\n",
       "      <td>A01</td>\n",
       "      <td>여성</td>\n",
       "      <td>191436</td>\n",
       "      <td>2019-11</td>\n",
       "    </tr>\n",
       "    <tr>\n",
       "      <th>4</th>\n",
       "      <td>A18</td>\n",
       "      <td>남성</td>\n",
       "      <td>158912</td>\n",
       "      <td>2019-11</td>\n",
       "    </tr>\n",
       "    <tr>\n",
       "      <th>5</th>\n",
       "      <td>A18</td>\n",
       "      <td>여성</td>\n",
       "      <td>232943</td>\n",
       "      <td>2019-11</td>\n",
       "    </tr>\n",
       "  </tbody>\n",
       "</table>\n",
       "</div>"
      ],
      "text/plain": [
       "  국적코드  성별    입국객수     기준년월\n",
       "0  A01  남성  106320  2019-11\n",
       "1  A01  여성  191436  2019-11\n",
       "4  A18  남성  158912  2019-11\n",
       "5  A18  여성  232943  2019-11"
      ]
     },
     "execution_count": 18,
     "metadata": {},
     "output_type": "execute_result"
    }
   ],
   "source": [
    "# 중요\n",
    "# 한 칼럼에 대해 여러 조건으로 필터링하기\n",
    "conditions = (sample_1['국적코드']=='A01')\\\n",
    "|(sample_1['국적코드']=='A18') # | = OR\n",
    "sample_1[conditions]"
   ]
  },
  {
   "cell_type": "code",
   "execution_count": 19,
   "metadata": {},
   "outputs": [
    {
     "data": {
      "text/plain": [
       "0     True\n",
       "1     True\n",
       "2    False\n",
       "3    False\n",
       "4     True\n",
       "5     True\n",
       "Name: 국적코드, dtype: bool"
      ]
     },
     "execution_count": 19,
     "metadata": {},
     "output_type": "execute_result"
    }
   ],
   "source": [
    "# 중요\n",
    "# 한 칼럼에 대해 여러 조건으로 필터링하기\n",
    "# isin() : 찾고싶은 값들을 리스트 형태로 넣어서 해당 값 찾기\n",
    "conditions = (sample_1['국적코드'].isin(['A01','A18']))\n",
    "conditions"
   ]
  },
  {
   "cell_type": "code",
   "execution_count": 20,
   "metadata": {},
   "outputs": [
    {
     "data": {
      "text/html": [
       "<div>\n",
       "<style scoped>\n",
       "    .dataframe tbody tr th:only-of-type {\n",
       "        vertical-align: middle;\n",
       "    }\n",
       "\n",
       "    .dataframe tbody tr th {\n",
       "        vertical-align: top;\n",
       "    }\n",
       "\n",
       "    .dataframe thead th {\n",
       "        text-align: right;\n",
       "    }\n",
       "</style>\n",
       "<table border=\"1\" class=\"dataframe\">\n",
       "  <thead>\n",
       "    <tr style=\"text-align: right;\">\n",
       "      <th></th>\n",
       "      <th>국적코드</th>\n",
       "      <th>성별</th>\n",
       "      <th>입국객수</th>\n",
       "      <th>기준년월</th>\n",
       "    </tr>\n",
       "  </thead>\n",
       "  <tbody>\n",
       "    <tr>\n",
       "      <th>0</th>\n",
       "      <td>A01</td>\n",
       "      <td>남성</td>\n",
       "      <td>106320</td>\n",
       "      <td>2019-11</td>\n",
       "    </tr>\n",
       "    <tr>\n",
       "      <th>1</th>\n",
       "      <td>A01</td>\n",
       "      <td>여성</td>\n",
       "      <td>191436</td>\n",
       "      <td>2019-11</td>\n",
       "    </tr>\n",
       "    <tr>\n",
       "      <th>4</th>\n",
       "      <td>A18</td>\n",
       "      <td>남성</td>\n",
       "      <td>158912</td>\n",
       "      <td>2019-11</td>\n",
       "    </tr>\n",
       "    <tr>\n",
       "      <th>5</th>\n",
       "      <td>A18</td>\n",
       "      <td>여성</td>\n",
       "      <td>232943</td>\n",
       "      <td>2019-11</td>\n",
       "    </tr>\n",
       "  </tbody>\n",
       "</table>\n",
       "</div>"
      ],
      "text/plain": [
       "  국적코드  성별    입국객수     기준년월\n",
       "0  A01  남성  106320  2019-11\n",
       "1  A01  여성  191436  2019-11\n",
       "4  A18  남성  158912  2019-11\n",
       "5  A18  여성  232943  2019-11"
      ]
     },
     "execution_count": 20,
     "metadata": {},
     "output_type": "execute_result"
    }
   ],
   "source": [
    "sample_1[conditions]"
   ]
  },
  {
   "cell_type": "code",
   "execution_count": 21,
   "metadata": {},
   "outputs": [
    {
     "data": {
      "text/html": [
       "<div>\n",
       "<style scoped>\n",
       "    .dataframe tbody tr th:only-of-type {\n",
       "        vertical-align: middle;\n",
       "    }\n",
       "\n",
       "    .dataframe tbody tr th {\n",
       "        vertical-align: top;\n",
       "    }\n",
       "\n",
       "    .dataframe thead th {\n",
       "        text-align: right;\n",
       "    }\n",
       "</style>\n",
       "<table border=\"1\" class=\"dataframe\">\n",
       "  <thead>\n",
       "    <tr style=\"text-align: right;\">\n",
       "      <th></th>\n",
       "      <th>국적코드</th>\n",
       "      <th>성별</th>\n",
       "      <th>입국객수</th>\n",
       "      <th>기준년월</th>\n",
       "    </tr>\n",
       "  </thead>\n",
       "  <tbody>\n",
       "    <tr>\n",
       "      <th>2</th>\n",
       "      <td>A31</td>\n",
       "      <td>남성</td>\n",
       "      <td>319</td>\n",
       "      <td>2019-11</td>\n",
       "    </tr>\n",
       "    <tr>\n",
       "      <th>3</th>\n",
       "      <td>A31</td>\n",
       "      <td>여성</td>\n",
       "      <td>42</td>\n",
       "      <td>2019-11</td>\n",
       "    </tr>\n",
       "  </tbody>\n",
       "</table>\n",
       "</div>"
      ],
      "text/plain": [
       "  국적코드  성별  입국객수     기준년월\n",
       "2  A31  남성   319  2019-11\n",
       "3  A31  여성    42  2019-11"
      ]
     },
     "execution_count": 21,
     "metadata": {},
     "output_type": "execute_result"
    }
   ],
   "source": [
    "# 중요\n",
    "sample_1[conditions==False]"
   ]
  },
  {
   "cell_type": "markdown",
   "metadata": {},
   "source": [
    "(중요)\n",
    "\n",
    "데이터 옆(좌우)으로 통합하기 : pd.merge()\n",
    "\n",
    "데이터 아래(상하)로 통합하기 : pd.append()"
   ]
  },
  {
   "cell_type": "code",
   "execution_count": 22,
   "metadata": {},
   "outputs": [
    {
     "data": {
      "text/html": [
       "<div>\n",
       "<style scoped>\n",
       "    .dataframe tbody tr th:only-of-type {\n",
       "        vertical-align: middle;\n",
       "    }\n",
       "\n",
       "    .dataframe tbody tr th {\n",
       "        vertical-align: top;\n",
       "    }\n",
       "\n",
       "    .dataframe thead th {\n",
       "        text-align: right;\n",
       "    }\n",
       "</style>\n",
       "<table border=\"1\" class=\"dataframe\">\n",
       "  <thead>\n",
       "    <tr style=\"text-align: right;\">\n",
       "      <th></th>\n",
       "      <th>국적코드</th>\n",
       "      <th>성별</th>\n",
       "      <th>입국객수</th>\n",
       "      <th>기준년월</th>\n",
       "      <th>국적명</th>\n",
       "    </tr>\n",
       "  </thead>\n",
       "  <tbody>\n",
       "    <tr>\n",
       "      <th>0</th>\n",
       "      <td>A01</td>\n",
       "      <td>남성</td>\n",
       "      <td>106320</td>\n",
       "      <td>2019-11</td>\n",
       "      <td>일본</td>\n",
       "    </tr>\n",
       "    <tr>\n",
       "      <th>1</th>\n",
       "      <td>A01</td>\n",
       "      <td>여성</td>\n",
       "      <td>191436</td>\n",
       "      <td>2019-11</td>\n",
       "      <td>일본</td>\n",
       "    </tr>\n",
       "    <tr>\n",
       "      <th>2</th>\n",
       "      <td>A31</td>\n",
       "      <td>남성</td>\n",
       "      <td>319</td>\n",
       "      <td>2019-11</td>\n",
       "      <td>NaN</td>\n",
       "    </tr>\n",
       "    <tr>\n",
       "      <th>3</th>\n",
       "      <td>A31</td>\n",
       "      <td>여성</td>\n",
       "      <td>42</td>\n",
       "      <td>2019-11</td>\n",
       "      <td>NaN</td>\n",
       "    </tr>\n",
       "    <tr>\n",
       "      <th>4</th>\n",
       "      <td>A18</td>\n",
       "      <td>남성</td>\n",
       "      <td>158912</td>\n",
       "      <td>2019-11</td>\n",
       "      <td>중국</td>\n",
       "    </tr>\n",
       "    <tr>\n",
       "      <th>5</th>\n",
       "      <td>A18</td>\n",
       "      <td>여성</td>\n",
       "      <td>232943</td>\n",
       "      <td>2019-11</td>\n",
       "      <td>중국</td>\n",
       "    </tr>\n",
       "  </tbody>\n",
       "</table>\n",
       "</div>"
      ],
      "text/plain": [
       "  국적코드  성별    입국객수     기준년월  국적명\n",
       "0  A01  남성  106320  2019-11   일본\n",
       "1  A01  여성  191436  2019-11   일본\n",
       "2  A31  남성     319  2019-11  NaN\n",
       "3  A31  여성      42  2019-11  NaN\n",
       "4  A18  남성  158912  2019-11   중국\n",
       "5  A18  여성  232943  2019-11   중국"
      ]
     },
     "execution_count": 22,
     "metadata": {},
     "output_type": "execute_result"
    }
   ],
   "source": [
    "# 중요\n",
    "# 데이터 옆으로 통합\n",
    "code_master = pd.read_excel('./data/2_Data_Analysis_Basic/files/sample_codemaster.xlsx')\n",
    "sample_1_code = pd.merge(left=sample_1,\n",
    "                        right=code_master,\n",
    "                        how='left',\n",
    "                        left_on='국적코드',\n",
    "                        right_on='국적코드')\n",
    "sample_1_code"
   ]
  },
  {
   "cell_type": "markdown",
   "metadata": {},
   "source": [
    "(해석)\n",
    "1. left = sample_1 : 왼쪽테이블은 sample_1로 정한다.\n",
    "2. right = code_master : 오른쪽테이블은 code_master로 정한다.\n",
    "3. how = 'left' : 왼쪽 테이블을 기준으로 두 테이블을 결합한다.\n",
    "4. left_on = '국적코드' : 왼쪽 테이블의 기준 컬럼을 국적코드다.\n",
    "5. right_on = '국적코드' : 오른쪽 테이블의 기준 컬럼을 국적코드다."
   ]
  },
  {
   "cell_type": "code",
   "execution_count": 23,
   "metadata": {},
   "outputs": [
    {
     "data": {
      "text/html": [
       "<div>\n",
       "<style scoped>\n",
       "    .dataframe tbody tr th:only-of-type {\n",
       "        vertical-align: middle;\n",
       "    }\n",
       "\n",
       "    .dataframe tbody tr th {\n",
       "        vertical-align: top;\n",
       "    }\n",
       "\n",
       "    .dataframe thead th {\n",
       "        text-align: right;\n",
       "    }\n",
       "</style>\n",
       "<table border=\"1\" class=\"dataframe\">\n",
       "  <thead>\n",
       "    <tr style=\"text-align: right;\">\n",
       "      <th></th>\n",
       "      <th>국적코드</th>\n",
       "      <th>성별</th>\n",
       "      <th>입국객수</th>\n",
       "      <th>기준년월</th>\n",
       "      <th>국적명</th>\n",
       "    </tr>\n",
       "  </thead>\n",
       "  <tbody>\n",
       "    <tr>\n",
       "      <th>0</th>\n",
       "      <td>A01</td>\n",
       "      <td>남성</td>\n",
       "      <td>106320</td>\n",
       "      <td>2019-11</td>\n",
       "      <td>일본</td>\n",
       "    </tr>\n",
       "    <tr>\n",
       "      <th>1</th>\n",
       "      <td>A01</td>\n",
       "      <td>여성</td>\n",
       "      <td>191436</td>\n",
       "      <td>2019-11</td>\n",
       "      <td>일본</td>\n",
       "    </tr>\n",
       "    <tr>\n",
       "      <th>2</th>\n",
       "      <td>A18</td>\n",
       "      <td>남성</td>\n",
       "      <td>158912</td>\n",
       "      <td>2019-11</td>\n",
       "      <td>중국</td>\n",
       "    </tr>\n",
       "    <tr>\n",
       "      <th>3</th>\n",
       "      <td>A18</td>\n",
       "      <td>여성</td>\n",
       "      <td>232943</td>\n",
       "      <td>2019-11</td>\n",
       "      <td>중국</td>\n",
       "    </tr>\n",
       "  </tbody>\n",
       "</table>\n",
       "</div>"
      ],
      "text/plain": [
       "  국적코드  성별    입국객수     기준년월 국적명\n",
       "0  A01  남성  106320  2019-11  일본\n",
       "1  A01  여성  191436  2019-11  일본\n",
       "2  A18  남성  158912  2019-11  중국\n",
       "3  A18  여성  232943  2019-11  중국"
      ]
     },
     "execution_count": 23,
     "metadata": {},
     "output_type": "execute_result"
    }
   ],
   "source": [
    "# 중요\n",
    "# 옵션 how='inner'\n",
    "# 두 테이블의 기준 칼럼의 값이 서로 일치하는 경우에만 데이터를 통합하는 옵션\n",
    "sample_1_code_inner = pd.merge(left=sample_1,\n",
    "                                right=code_master,\n",
    "                                how='inner',\n",
    "                                left_on='국적코드',\n",
    "                                right_on='국적코드')\n",
    "sample_1_code_inner"
   ]
  },
  {
   "cell_type": "code",
   "execution_count": 24,
   "metadata": {},
   "outputs": [
    {
     "data": {
      "text/html": [
       "<div>\n",
       "<style scoped>\n",
       "    .dataframe tbody tr th:only-of-type {\n",
       "        vertical-align: middle;\n",
       "    }\n",
       "\n",
       "    .dataframe tbody tr th {\n",
       "        vertical-align: top;\n",
       "    }\n",
       "\n",
       "    .dataframe thead th {\n",
       "        text-align: right;\n",
       "    }\n",
       "</style>\n",
       "<table border=\"1\" class=\"dataframe\">\n",
       "  <thead>\n",
       "    <tr style=\"text-align: right;\">\n",
       "      <th></th>\n",
       "      <th>국적코드</th>\n",
       "      <th>성별</th>\n",
       "      <th>입국객수</th>\n",
       "      <th>기준년월</th>\n",
       "      <th>국적명</th>\n",
       "    </tr>\n",
       "  </thead>\n",
       "  <tbody>\n",
       "    <tr>\n",
       "      <th>0</th>\n",
       "      <td>A01</td>\n",
       "      <td>남성</td>\n",
       "      <td>92556</td>\n",
       "      <td>2019-12</td>\n",
       "      <td>일본</td>\n",
       "    </tr>\n",
       "    <tr>\n",
       "      <th>1</th>\n",
       "      <td>A01</td>\n",
       "      <td>여성</td>\n",
       "      <td>163737</td>\n",
       "      <td>2019-12</td>\n",
       "      <td>일본</td>\n",
       "    </tr>\n",
       "    <tr>\n",
       "      <th>2</th>\n",
       "      <td>A18</td>\n",
       "      <td>남성</td>\n",
       "      <td>155540</td>\n",
       "      <td>2019-12</td>\n",
       "      <td>중국</td>\n",
       "    </tr>\n",
       "    <tr>\n",
       "      <th>3</th>\n",
       "      <td>A18</td>\n",
       "      <td>여성</td>\n",
       "      <td>249023</td>\n",
       "      <td>2019-12</td>\n",
       "      <td>중국</td>\n",
       "    </tr>\n",
       "  </tbody>\n",
       "</table>\n",
       "</div>"
      ],
      "text/plain": [
       "  국적코드  성별    입국객수     기준년월 국적명\n",
       "0  A01  남성   92556  2019-12  일본\n",
       "1  A01  여성  163737  2019-12  일본\n",
       "2  A18  남성  155540  2019-12  중국\n",
       "3  A18  여성  249023  2019-12  중국"
      ]
     },
     "execution_count": 24,
     "metadata": {},
     "output_type": "execute_result"
    }
   ],
   "source": [
    "sample_2 = pd.read_excel('./data/2_Data_Analysis_Basic/files/sample_2.xlsx',\n",
    "                        header=1,\n",
    "                        skipfooter=2,\n",
    "                        usecols='A:C')\n",
    "sample_2['기준년월']='2019-12'\n",
    "sample_2_code = pd.merge(left=sample_2,\n",
    "                        right=code_master,\n",
    "                        how='left',\n",
    "                        left_on='국적코드',\n",
    "                        right_on='국적코드')\n",
    "sample_2_code"
   ]
  },
  {
   "cell_type": "code",
   "execution_count": 25,
   "metadata": {},
   "outputs": [
    {
     "data": {
      "text/html": [
       "<div>\n",
       "<style scoped>\n",
       "    .dataframe tbody tr th:only-of-type {\n",
       "        vertical-align: middle;\n",
       "    }\n",
       "\n",
       "    .dataframe tbody tr th {\n",
       "        vertical-align: top;\n",
       "    }\n",
       "\n",
       "    .dataframe thead th {\n",
       "        text-align: right;\n",
       "    }\n",
       "</style>\n",
       "<table border=\"1\" class=\"dataframe\">\n",
       "  <thead>\n",
       "    <tr style=\"text-align: right;\">\n",
       "      <th></th>\n",
       "      <th>국적코드</th>\n",
       "      <th>성별</th>\n",
       "      <th>입국객수</th>\n",
       "      <th>기준년월</th>\n",
       "      <th>국적명</th>\n",
       "    </tr>\n",
       "  </thead>\n",
       "  <tbody>\n",
       "    <tr>\n",
       "      <th>0</th>\n",
       "      <td>A01</td>\n",
       "      <td>남성</td>\n",
       "      <td>106320</td>\n",
       "      <td>2019-11</td>\n",
       "      <td>일본</td>\n",
       "    </tr>\n",
       "    <tr>\n",
       "      <th>1</th>\n",
       "      <td>A01</td>\n",
       "      <td>여성</td>\n",
       "      <td>191436</td>\n",
       "      <td>2019-11</td>\n",
       "      <td>일본</td>\n",
       "    </tr>\n",
       "    <tr>\n",
       "      <th>2</th>\n",
       "      <td>A31</td>\n",
       "      <td>남성</td>\n",
       "      <td>319</td>\n",
       "      <td>2019-11</td>\n",
       "      <td>NaN</td>\n",
       "    </tr>\n",
       "    <tr>\n",
       "      <th>3</th>\n",
       "      <td>A31</td>\n",
       "      <td>여성</td>\n",
       "      <td>42</td>\n",
       "      <td>2019-11</td>\n",
       "      <td>NaN</td>\n",
       "    </tr>\n",
       "    <tr>\n",
       "      <th>4</th>\n",
       "      <td>A18</td>\n",
       "      <td>남성</td>\n",
       "      <td>158912</td>\n",
       "      <td>2019-11</td>\n",
       "      <td>중국</td>\n",
       "    </tr>\n",
       "    <tr>\n",
       "      <th>5</th>\n",
       "      <td>A18</td>\n",
       "      <td>여성</td>\n",
       "      <td>232943</td>\n",
       "      <td>2019-11</td>\n",
       "      <td>중국</td>\n",
       "    </tr>\n",
       "  </tbody>\n",
       "</table>\n",
       "</div>"
      ],
      "text/plain": [
       "  국적코드  성별    입국객수     기준년월  국적명\n",
       "0  A01  남성  106320  2019-11   일본\n",
       "1  A01  여성  191436  2019-11   일본\n",
       "2  A31  남성     319  2019-11  NaN\n",
       "3  A31  여성      42  2019-11  NaN\n",
       "4  A18  남성  158912  2019-11   중국\n",
       "5  A18  여성  232943  2019-11   중국"
      ]
     },
     "execution_count": 25,
     "metadata": {},
     "output_type": "execute_result"
    }
   ],
   "source": [
    "sample_1_code"
   ]
  },
  {
   "cell_type": "code",
   "execution_count": 26,
   "metadata": {},
   "outputs": [
    {
     "data": {
      "text/html": [
       "<div>\n",
       "<style scoped>\n",
       "    .dataframe tbody tr th:only-of-type {\n",
       "        vertical-align: middle;\n",
       "    }\n",
       "\n",
       "    .dataframe tbody tr th {\n",
       "        vertical-align: top;\n",
       "    }\n",
       "\n",
       "    .dataframe thead th {\n",
       "        text-align: right;\n",
       "    }\n",
       "</style>\n",
       "<table border=\"1\" class=\"dataframe\">\n",
       "  <thead>\n",
       "    <tr style=\"text-align: right;\">\n",
       "      <th></th>\n",
       "      <th>국적코드</th>\n",
       "      <th>성별</th>\n",
       "      <th>입국객수</th>\n",
       "      <th>기준년월</th>\n",
       "      <th>국적명</th>\n",
       "    </tr>\n",
       "  </thead>\n",
       "  <tbody>\n",
       "    <tr>\n",
       "      <th>0</th>\n",
       "      <td>A01</td>\n",
       "      <td>남성</td>\n",
       "      <td>106320</td>\n",
       "      <td>2019-11</td>\n",
       "      <td>일본</td>\n",
       "    </tr>\n",
       "    <tr>\n",
       "      <th>1</th>\n",
       "      <td>A01</td>\n",
       "      <td>여성</td>\n",
       "      <td>191436</td>\n",
       "      <td>2019-11</td>\n",
       "      <td>일본</td>\n",
       "    </tr>\n",
       "    <tr>\n",
       "      <th>2</th>\n",
       "      <td>A31</td>\n",
       "      <td>남성</td>\n",
       "      <td>319</td>\n",
       "      <td>2019-11</td>\n",
       "      <td>NaN</td>\n",
       "    </tr>\n",
       "    <tr>\n",
       "      <th>3</th>\n",
       "      <td>A31</td>\n",
       "      <td>여성</td>\n",
       "      <td>42</td>\n",
       "      <td>2019-11</td>\n",
       "      <td>NaN</td>\n",
       "    </tr>\n",
       "    <tr>\n",
       "      <th>4</th>\n",
       "      <td>A18</td>\n",
       "      <td>남성</td>\n",
       "      <td>158912</td>\n",
       "      <td>2019-11</td>\n",
       "      <td>중국</td>\n",
       "    </tr>\n",
       "    <tr>\n",
       "      <th>5</th>\n",
       "      <td>A18</td>\n",
       "      <td>여성</td>\n",
       "      <td>232943</td>\n",
       "      <td>2019-11</td>\n",
       "      <td>중국</td>\n",
       "    </tr>\n",
       "    <tr>\n",
       "      <th>6</th>\n",
       "      <td>A01</td>\n",
       "      <td>남성</td>\n",
       "      <td>92556</td>\n",
       "      <td>2019-12</td>\n",
       "      <td>일본</td>\n",
       "    </tr>\n",
       "    <tr>\n",
       "      <th>7</th>\n",
       "      <td>A01</td>\n",
       "      <td>여성</td>\n",
       "      <td>163737</td>\n",
       "      <td>2019-12</td>\n",
       "      <td>일본</td>\n",
       "    </tr>\n",
       "    <tr>\n",
       "      <th>8</th>\n",
       "      <td>A18</td>\n",
       "      <td>남성</td>\n",
       "      <td>155540</td>\n",
       "      <td>2019-12</td>\n",
       "      <td>중국</td>\n",
       "    </tr>\n",
       "    <tr>\n",
       "      <th>9</th>\n",
       "      <td>A18</td>\n",
       "      <td>여성</td>\n",
       "      <td>249023</td>\n",
       "      <td>2019-12</td>\n",
       "      <td>중국</td>\n",
       "    </tr>\n",
       "  </tbody>\n",
       "</table>\n",
       "</div>"
      ],
      "text/plain": [
       "  국적코드  성별    입국객수     기준년월  국적명\n",
       "0  A01  남성  106320  2019-11   일본\n",
       "1  A01  여성  191436  2019-11   일본\n",
       "2  A31  남성     319  2019-11  NaN\n",
       "3  A31  여성      42  2019-11  NaN\n",
       "4  A18  남성  158912  2019-11   중국\n",
       "5  A18  여성  232943  2019-11   중국\n",
       "6  A01  남성   92556  2019-12   일본\n",
       "7  A01  여성  163737  2019-12   일본\n",
       "8  A18  남성  155540  2019-12   중국\n",
       "9  A18  여성  249023  2019-12   중국"
      ]
     },
     "execution_count": 26,
     "metadata": {},
     "output_type": "execute_result"
    }
   ],
   "source": [
    "# 중요\n",
    "# 데이터를 아래로 통합하기\n",
    "sample = sample_1_code.append(sample_2_code,\n",
    "                             ignore_index=True)\n",
    "sample"
   ]
  },
  {
   "cell_type": "markdown",
   "metadata": {},
   "source": [
    "이 때 ignore_index=True를 지정하지 않으면 원래 각 데이터에서의 인덱스 값으로 합쳐지므로 일반적으로 ignore_index=True인자를 지정해주는 것이 좋다.\n",
    "\n",
    "ignore_index=True인자를 지정하지 않으면 아래와 같이 된다."
   ]
  },
  {
   "cell_type": "code",
   "execution_count": 27,
   "metadata": {},
   "outputs": [
    {
     "data": {
      "text/html": [
       "<div>\n",
       "<style scoped>\n",
       "    .dataframe tbody tr th:only-of-type {\n",
       "        vertical-align: middle;\n",
       "    }\n",
       "\n",
       "    .dataframe tbody tr th {\n",
       "        vertical-align: top;\n",
       "    }\n",
       "\n",
       "    .dataframe thead th {\n",
       "        text-align: right;\n",
       "    }\n",
       "</style>\n",
       "<table border=\"1\" class=\"dataframe\">\n",
       "  <thead>\n",
       "    <tr style=\"text-align: right;\">\n",
       "      <th></th>\n",
       "      <th>국적코드</th>\n",
       "      <th>성별</th>\n",
       "      <th>입국객수</th>\n",
       "      <th>기준년월</th>\n",
       "      <th>국적명</th>\n",
       "    </tr>\n",
       "  </thead>\n",
       "  <tbody>\n",
       "    <tr>\n",
       "      <th>0</th>\n",
       "      <td>A01</td>\n",
       "      <td>남성</td>\n",
       "      <td>106320</td>\n",
       "      <td>2019-11</td>\n",
       "      <td>일본</td>\n",
       "    </tr>\n",
       "    <tr>\n",
       "      <th>1</th>\n",
       "      <td>A01</td>\n",
       "      <td>여성</td>\n",
       "      <td>191436</td>\n",
       "      <td>2019-11</td>\n",
       "      <td>일본</td>\n",
       "    </tr>\n",
       "    <tr>\n",
       "      <th>2</th>\n",
       "      <td>A31</td>\n",
       "      <td>남성</td>\n",
       "      <td>319</td>\n",
       "      <td>2019-11</td>\n",
       "      <td>NaN</td>\n",
       "    </tr>\n",
       "    <tr>\n",
       "      <th>3</th>\n",
       "      <td>A31</td>\n",
       "      <td>여성</td>\n",
       "      <td>42</td>\n",
       "      <td>2019-11</td>\n",
       "      <td>NaN</td>\n",
       "    </tr>\n",
       "    <tr>\n",
       "      <th>4</th>\n",
       "      <td>A18</td>\n",
       "      <td>남성</td>\n",
       "      <td>158912</td>\n",
       "      <td>2019-11</td>\n",
       "      <td>중국</td>\n",
       "    </tr>\n",
       "    <tr>\n",
       "      <th>5</th>\n",
       "      <td>A18</td>\n",
       "      <td>여성</td>\n",
       "      <td>232943</td>\n",
       "      <td>2019-11</td>\n",
       "      <td>중국</td>\n",
       "    </tr>\n",
       "    <tr>\n",
       "      <th>0</th>\n",
       "      <td>A01</td>\n",
       "      <td>남성</td>\n",
       "      <td>92556</td>\n",
       "      <td>2019-12</td>\n",
       "      <td>일본</td>\n",
       "    </tr>\n",
       "    <tr>\n",
       "      <th>1</th>\n",
       "      <td>A01</td>\n",
       "      <td>여성</td>\n",
       "      <td>163737</td>\n",
       "      <td>2019-12</td>\n",
       "      <td>일본</td>\n",
       "    </tr>\n",
       "    <tr>\n",
       "      <th>2</th>\n",
       "      <td>A18</td>\n",
       "      <td>남성</td>\n",
       "      <td>155540</td>\n",
       "      <td>2019-12</td>\n",
       "      <td>중국</td>\n",
       "    </tr>\n",
       "    <tr>\n",
       "      <th>3</th>\n",
       "      <td>A18</td>\n",
       "      <td>여성</td>\n",
       "      <td>249023</td>\n",
       "      <td>2019-12</td>\n",
       "      <td>중국</td>\n",
       "    </tr>\n",
       "  </tbody>\n",
       "</table>\n",
       "</div>"
      ],
      "text/plain": [
       "  국적코드  성별    입국객수     기준년월  국적명\n",
       "0  A01  남성  106320  2019-11   일본\n",
       "1  A01  여성  191436  2019-11   일본\n",
       "2  A31  남성     319  2019-11  NaN\n",
       "3  A31  여성      42  2019-11  NaN\n",
       "4  A18  남성  158912  2019-11   중국\n",
       "5  A18  여성  232943  2019-11   중국\n",
       "0  A01  남성   92556  2019-12   일본\n",
       "1  A01  여성  163737  2019-12   일본\n",
       "2  A18  남성  155540  2019-12   중국\n",
       "3  A18  여성  249023  2019-12   중국"
      ]
     },
     "execution_count": 27,
     "metadata": {},
     "output_type": "execute_result"
    }
   ],
   "source": [
    "sample_1_code.append(sample_2_code)"
   ]
  },
  {
   "cell_type": "code",
   "execution_count": 28,
   "metadata": {},
   "outputs": [],
   "source": [
    "# 데이터 저장\n",
    "sample.to_excel('./data/2_Data_Analysis_Basic/files/sample.xlsx')"
   ]
  },
  {
   "cell_type": "code",
   "execution_count": 29,
   "metadata": {},
   "outputs": [],
   "source": [
    "# 데이터 저장 (index 포함 X)\n",
    "sample.to_excel('./data/2_Data_Analysis_Basic/files/sample_index_false.xlsx',\n",
    "               index=False)"
   ]
  },
  {
   "cell_type": "markdown",
   "metadata": {},
   "source": [
    "피벗테이블(Pivot Table)\n",
    "\n",
    ": 기존 데이터의 칼럼을 재구성해서 데이터에 대한 통계를 한눈에 파악할 수 있게 정리한 표 (데이터 집계 도구)\n",
    "\n",
    "(ex) 데이터를 날짜별로 집계해주세요, 데이터를 연령별로 추출해주세요 등과 같이 **별로 데이터를 집계할 때 사용하는 기능"
   ]
  },
  {
   "cell_type": "code",
   "execution_count": 30,
   "metadata": {},
   "outputs": [
    {
     "data": {
      "text/html": [
       "<div>\n",
       "<style scoped>\n",
       "    .dataframe tbody tr th:only-of-type {\n",
       "        vertical-align: middle;\n",
       "    }\n",
       "\n",
       "    .dataframe tbody tr th {\n",
       "        vertical-align: top;\n",
       "    }\n",
       "\n",
       "    .dataframe thead th {\n",
       "        text-align: right;\n",
       "    }\n",
       "</style>\n",
       "<table border=\"1\" class=\"dataframe\">\n",
       "  <thead>\n",
       "    <tr style=\"text-align: right;\">\n",
       "      <th>기준년월</th>\n",
       "      <th>2019-11</th>\n",
       "      <th>2019-12</th>\n",
       "    </tr>\n",
       "    <tr>\n",
       "      <th>국적명</th>\n",
       "      <th></th>\n",
       "      <th></th>\n",
       "    </tr>\n",
       "  </thead>\n",
       "  <tbody>\n",
       "    <tr>\n",
       "      <th>일본</th>\n",
       "      <td>148878.0</td>\n",
       "      <td>128146.5</td>\n",
       "    </tr>\n",
       "    <tr>\n",
       "      <th>중국</th>\n",
       "      <td>195927.5</td>\n",
       "      <td>202281.5</td>\n",
       "    </tr>\n",
       "  </tbody>\n",
       "</table>\n",
       "</div>"
      ],
      "text/plain": [
       "기준년월   2019-11   2019-12\n",
       "국적명                     \n",
       "일본    148878.0  128146.5\n",
       "중국    195927.5  202281.5"
      ]
     },
     "execution_count": 30,
     "metadata": {},
     "output_type": "execute_result"
    }
   ],
   "source": [
    "# 중요\n",
    "# 피벗테이블 (pivot table)\n",
    "sample_pivot = sample.pivot_table(values='입국객수',\n",
    "                                 index='국적명',\n",
    "                                 columns='기준년월',\n",
    "                                 aggfunc='mean')\n",
    "sample_pivot"
   ]
  },
  {
   "cell_type": "markdown",
   "metadata": {},
   "source": [
    "(해석)\n",
    "1. sample.pivot_table() : sample데이터를 피벗화한다.\n",
    "2. values='입국객수' : 피벗테이블 내부에 들어갈 값은 입국객수로 한다.\n",
    "3. index='국적명' : 피벗테이블의 로우에 국적명을 배치한다.\n",
    "4. columns='기준년월' : 피벗테이블의 컬럼에 기준년월을 배치한다.\n",
    "5. aggfunc='mean' : value(입국객수)를 index(국적명)와 columns(기준년월) 기준으로 평균을 계산한다."
   ]
  },
  {
   "cell_type": "markdown",
   "metadata": {},
   "source": [
    "cf.) pivot_table()함수의 aggfunc 옵션\n",
    "\n",
    "mean : 평균\n",
    "\n",
    "sum : 합계\n",
    "\n",
    "min : 최솟값\n",
    "\n",
    "median : 중앙값\n",
    "\n",
    "max : 최댓값\n",
    "\n",
    "count : 개수\n",
    "\n",
    "nunique : 중복을 제거한 후 개수 (원소 개수)"
   ]
  },
  {
   "cell_type": "code",
   "execution_count": 31,
   "metadata": {},
   "outputs": [
    {
     "data": {
      "text/html": [
       "<div>\n",
       "<style scoped>\n",
       "    .dataframe tbody tr th:only-of-type {\n",
       "        vertical-align: middle;\n",
       "    }\n",
       "\n",
       "    .dataframe tbody tr th {\n",
       "        vertical-align: top;\n",
       "    }\n",
       "\n",
       "    .dataframe thead th {\n",
       "        text-align: right;\n",
       "    }\n",
       "</style>\n",
       "<table border=\"1\" class=\"dataframe\">\n",
       "  <thead>\n",
       "    <tr style=\"text-align: right;\">\n",
       "      <th></th>\n",
       "      <th>입국객수</th>\n",
       "    </tr>\n",
       "    <tr>\n",
       "      <th>국적명</th>\n",
       "      <th></th>\n",
       "    </tr>\n",
       "  </thead>\n",
       "  <tbody>\n",
       "    <tr>\n",
       "      <th>일본</th>\n",
       "      <td>191436</td>\n",
       "    </tr>\n",
       "    <tr>\n",
       "      <th>중국</th>\n",
       "      <td>249023</td>\n",
       "    </tr>\n",
       "  </tbody>\n",
       "</table>\n",
       "</div>"
      ],
      "text/plain": [
       "       입국객수\n",
       "국적명        \n",
       "일본   191436\n",
       "중국   249023"
      ]
     },
     "execution_count": 31,
     "metadata": {},
     "output_type": "execute_result"
    }
   ],
   "source": [
    "# 중요\n",
    "# 피벗테이블 (pivot table)\n",
    "sample_pivot_2 = sample.pivot_table(values='입국객수',\n",
    "                                   index='국적명',\n",
    "                                   aggfunc='max')\n",
    "sample_pivot_2"
   ]
  },
  {
   "cell_type": "markdown",
   "metadata": {},
   "source": [
    "@@@ 피벗테이블을 사용할 때 중요한 것\n",
    "\n",
    ": 기존 칼럼들을 피벗테이블의 어떤 영역(컬럼 혹은 로우)에 배치할 것인지를 판단하고 테이블을 생성해야한다!!!"
   ]
  },
  {
   "cell_type": "markdown",
   "metadata": {},
   "source": [
    "## 웹 크롤링 기초"
   ]
  },
  {
   "cell_type": "code",
   "execution_count": 1,
   "metadata": {},
   "outputs": [],
   "source": [
    "# selenium으로 웹 조작하기\n",
    "from selenium import webdriver"
   ]
  },
  {
   "cell_type": "code",
   "execution_count": 2,
   "metadata": {},
   "outputs": [],
   "source": [
    "# 크롬드라이버 실행\n",
    "driver = webdriver.Chrome('./chromedriver_win32/chromedriver.exe')"
   ]
  },
  {
   "cell_type": "code",
   "execution_count": 3,
   "metadata": {},
   "outputs": [],
   "source": [
    "# url 접속\n",
    "url = 'https://www.naver.com'\n",
    "driver.get(url)"
   ]
  },
  {
   "cell_type": "code",
   "execution_count": 4,
   "metadata": {},
   "outputs": [],
   "source": [
    "# 웹페이지의 html 다운로드\n",
    "html = driver.page_source"
   ]
  },
  {
   "cell_type": "code",
   "execution_count": 9,
   "metadata": {},
   "outputs": [],
   "source": [
    "html = \"\"\"\n",
    "<html>\n",
    "    <head>\n",
    "    </head>\n",
    "    <body>\n",
    "        <h1> 우리동네시장</h1>\n",
    "            <div class = 'sale'>\n",
    "                <p id='fruits1' class='fruits'>\n",
    "                    <span class = 'name'> 바나나 </span>\n",
    "                    <span class = 'price'> 3000원 </span>\n",
    "                    <span class = 'inventory'> 500개 </span>\n",
    "                    <span class = 'store'> 가나다상회 </span>\n",
    "                    <a href = 'http://bit.ly/forPlaywithData'> 홈페이지 </a>\n",
    "                </p>\n",
    "            </div>\n",
    "            <div class = 'prepare'>\n",
    "                <p id='fruits2' class='fruits'>\n",
    "                    <span class='name'> 파인애플 </span>\n",
    "                </p>\n",
    "            </div>\n",
    "    </body>\n",
    "</html>\n",
    "\"\"\""
   ]
  },
  {
   "cell_type": "code",
   "execution_count": 10,
   "metadata": {},
   "outputs": [],
   "source": [
    "# html 문자열을 BeautifulSoup으로 해석하기\n",
    "from bs4 import BeautifulSoup\n",
    "\n",
    "soup = BeautifulSoup(html, 'html.parser')"
   ]
  },
  {
   "cell_type": "markdown",
   "metadata": {},
   "source": [
    "### HTML 정보 찾기 1 - 태그 속성 활용"
   ]
  },
  {
   "cell_type": "code",
   "execution_count": 11,
   "metadata": {},
   "outputs": [],
   "source": [
    "# 태그명으로 태그 찾기\n",
    "tags_span = soup.select('span')\n",
    "tags_p = soup.select('p')"
   ]
  },
  {
   "cell_type": "markdown",
   "metadata": {},
   "source": [
    "class 속성 : 글꼴, 배경색 등의 서식을 지정, html 내에서 동일한 class명 반복 가능\n",
    "\n",
    "id 값 : 특정 대상을 지정하기 위해 사용, html 내에서 한 번만 사용 가능"
   ]
  },
  {
   "cell_type": "code",
   "execution_count": 12,
   "metadata": {},
   "outputs": [],
   "source": [
    "# id와 class로 태그 찾기\n",
    "ids_fruits1 = soup.select('#fruits1')\n",
    "class_price = soup.select('.price')\n",
    "tags_span_class_price = soup.select('span.price')"
   ]
  },
  {
   "cell_type": "markdown",
   "metadata": {},
   "source": [
    "### HTML 정보 찾기 2 - 상위 구조 활용"
   ]
  },
  {
   "cell_type": "code",
   "execution_count": 13,
   "metadata": {},
   "outputs": [
    {
     "name": "stdout",
     "output_type": "stream",
     "text": [
      "[<span class=\"name\"> 바나나 </span>, <span class=\"name\"> 파인애플 </span>]\n"
     ]
    }
   ],
   "source": [
    "# 태그 구조로 위치 찾기 1\n",
    "tags_name = soup.select('span.name')\n",
    "print(tags_name)"
   ]
  },
  {
   "cell_type": "code",
   "execution_count": 14,
   "metadata": {},
   "outputs": [
    {
     "name": "stdout",
     "output_type": "stream",
     "text": [
      "[<span class=\"name\"> 바나나 </span>]\n"
     ]
    }
   ],
   "source": [
    "# 태그 구조로 위치 찾기 2\n",
    "tags_banana1 = soup.select('#fruits1 > span.name')\n",
    "print(tags_banana1)"
   ]
  },
  {
   "cell_type": "code",
   "execution_count": 15,
   "metadata": {},
   "outputs": [
    {
     "name": "stdout",
     "output_type": "stream",
     "text": [
      "[<span class=\"name\"> 바나나 </span>]\n",
      "[<span class=\"name\"> 바나나 </span>]\n"
     ]
    }
   ],
   "source": [
    "# 태그 구조로 위치 찾기 3\n",
    "tags_banana2 = soup.select('div.sale > #fruits1 > span.name')\n",
    "tags_banana3 = soup.select('div.sale span.name')\n",
    "print(tags_banana2)\n",
    "print(tags_banana3)"
   ]
  },
  {
   "cell_type": "markdown",
   "metadata": {},
   "source": [
    "### 정보 가져오기 1 - 태그 그룹에서 하나의 태그 선택하기"
   ]
  },
  {
   "cell_type": "code",
   "execution_count": 16,
   "metadata": {},
   "outputs": [
    {
     "name": "stdout",
     "output_type": "stream",
     "text": [
      "<span class=\"name\"> 바나나 </span>\n"
     ]
    }
   ],
   "source": [
    "# 태그 그룹에서 하나의 태그만 선택\n",
    "tags = soup.select('span.name')\n",
    "tag_1 = tags[0] # 인덱스 번호로 하나의 태그 지정\n",
    "print(tag_1)"
   ]
  },
  {
   "cell_type": "code",
   "execution_count": 19,
   "metadata": {},
   "outputs": [
    {
     "name": "stdout",
     "output_type": "stream",
     "text": [
      "<span class=\"name\"> 바나나 </span>\n",
      "<span class=\"name\"> 파인애플 </span>\n"
     ]
    }
   ],
   "source": [
    "# 태그 그룹에서 반복문으로 태그 하나씩 선택하기\n",
    "tags = soup.select('span.name')\n",
    "for tag in tags: # 반복문으로 태그 그룹에서 각 태그를 선택해 활용\n",
    "    print(tag)"
   ]
  },
  {
   "cell_type": "markdown",
   "metadata": {},
   "source": [
    "### 정보 가져오기 2 - 선택한 태그에서 정보 가져오기"
   ]
  },
  {
   "cell_type": "markdown",
   "metadata": {},
   "source": [
    "{태그에서 정보 가져오기}\n",
    "\n",
    "content = TAG.text             # 태그에서 화면에 보이는 텍스트 부분만 가져오기\n",
    "\n",
    "attribute = TAG['속성명']      # 태그 내 속성값 가져오기"
   ]
  },
  {
   "cell_type": "code",
   "execution_count": 22,
   "metadata": {},
   "outputs": [
    {
     "name": "stdout",
     "output_type": "stream",
     "text": [
      " 홈페이지 \n",
      "http://bit.ly/forPlaywithData\n"
     ]
    }
   ],
   "source": [
    "tags = soup.select('a')\n",
    "tag = tags[0]\n",
    "content = tag.text\n",
    "print(content)\n",
    "link = tag['href']\n",
    "print(link)"
   ]
  },
  {
   "cell_type": "markdown",
   "metadata": {},
   "source": [
    "1번째 줄 = soup에서 태그명이 a인 태그 모두 선택\n",
    "\n",
    "2번째 줄 = 그중 첫 번째(인덱스번호 0번) 원소를 선택해서 tag변수에 저장\n",
    "\n",
    "3~4번째 줄 = tag에 저장된 태그의 화면에 보이는 부분을 선택하기 위해 .text 사용 (결과 : 홈페이지)\n",
    "\n",
    "5번째 줄 = 태그에서 href 속성에 저장된 값을 link 변수에 저장\n",
    "\n",
    "6번째 줄 = 출력 (결과 : URL 확인)"
   ]
  },
  {
   "cell_type": "markdown",
   "metadata": {},
   "source": [
    "### 멜론 노래 순위 정보 크롤링"
   ]
  },
  {
   "cell_type": "code",
   "execution_count": 23,
   "metadata": {},
   "outputs": [],
   "source": [
    "from selenium import webdriver\n",
    "driver = webdriver.Chrome('./chromedriver_win32/chromedriver.exe')"
   ]
  },
  {
   "cell_type": "code",
   "execution_count": 24,
   "metadata": {},
   "outputs": [],
   "source": [
    "url = 'http://www.melon.com/chart/index.htm'\n",
    "driver.get(url)"
   ]
  },
  {
   "cell_type": "code",
   "execution_count": 25,
   "metadata": {},
   "outputs": [],
   "source": [
    "# html 다운로드 및 BeautifulSoup으로 읽기\n",
    "from bs4 import BeautifulSoup\n",
    "html = driver.page_source\n",
    "soup = BeautifulSoup(html, 'html.parser')"
   ]
  },
  {
   "cell_type": "code",
   "execution_count": 26,
   "metadata": {
    "collapsed": true,
    "jupyter": {
     "outputs_hidden": true
    }
   },
   "outputs": [
    {
     "name": "stdout",
     "output_type": "stream",
     "text": [
      "100\n",
      "<tr data-song-no=\"33077590\">\n",
      "<td><div class=\"wrap t_right\"><input class=\"input_check\" name=\"input_check\" title=\"VVS (Feat. JUSTHIS) (Prod. GroovyRoom) 곡 선택\" type=\"checkbox\" value=\"33077590\"/></div></td>\n",
      "<td><div class=\"wrap\">\n",
      "<a class=\"image_typeAll\" href=\"javascript:melon.link.goAlbumDetail('10521601');\" title=\"쇼미더머니 9 Episode 1\">\n",
      "<img alt=\"쇼미더머니 9 Episode 1 - 페이지 이동\" height=\"60\" onerror=\"WEBPOCIMG.defaultAlbumImg(this);\" src=\"https://cdnimg.melon.co.kr/cm2/album/images/105/21/601/10521601_20201120125511_500.jpg/melon/resize/120/quality/80/optimize\" width=\"60\"/>\n",
      "<span class=\"bg_album_frame\"></span>\n",
      "</a>\n",
      "</div></td>\n",
      "<td><div class=\"wrap\">\n",
      "<a class=\"btn button_icons type03 song_info\" href=\"javascript:melon.link.goSongDetail('33077590');\" title=\"VVS (Feat. JUSTHIS) (Prod. GroovyRoom) 곡정보\"><span class=\"none\">곡정보</span></a>\n",
      "</div></td>\n",
      "<td><div class=\"wrap\">\n",
      "<div class=\"wrap_song_info\">\n",
      "<div class=\"ellipsis rank01\"><span>\n",
      "<a href=\"javascript:melon.play.playSong('19030101',33077590);\" title=\"VVS (Feat. JUSTHIS) (Prod. GroovyRoom) 재생\">VVS (Feat. JUSTHIS) (Prod. GroovyRoom)</a>\n",
      "</span></div>\n",
      "<br/>\n",
      "<div class=\"ellipsis rank02\">\n",
      "<a href=\"javascript:melon.link.goArtistDetail('2866523');\" title=\"미란이 (Mirani) - 페이지 이동\">미란이 (Mirani)</a>, <a href=\"javascript:melon.link.goArtistDetail('2747971');\" title=\"먼치맨 - 페이지 이동\">먼치맨</a>, <a href=\"javascript:melon.link.goArtistDetail('1703507');\" title=\"Khundi Panda - 페이지 이동\">Khundi Panda</a>, <a href=\"javascript:melon.link.goArtistDetail('2745413');\" title=\"머쉬베놈 (MUSHVENOM) - 페이지 이동\">머쉬베놈 (MUSHVENOM)</a><span class=\"checkEllipsis\" style=\"display: none;\"><a href=\"javascript:melon.link.goArtistDetail('2866523');\" title=\"미란이 (Mirani) - 페이지 이동\">미란이 (Mirani)</a>, <a href=\"javascript:melon.link.goArtistDetail('2747971');\" title=\"먼치맨 - 페이지 이동\">먼치맨</a>, <a href=\"javascript:melon.link.goArtistDetail('1703507');\" title=\"Khundi Panda - 페이지 이동\">Khundi Panda</a>, <a href=\"javascript:melon.link.goArtistDetail('2745413');\" title=\"머쉬베놈 (MUSHVENOM) - 페이지 이동\">머쉬베놈 (MUSHVENOM)</a></span>\n",
      "</div>\n",
      "<div class=\"wrap_atist\" style=\"\">\n",
      "<button class=\"button_icons etc more_down\" data-control=\"dropdown\" title=\"아티스트 더보기\" type=\"button\"><span class=\"none\">아티스트명 더보기</span></button>\n",
      "<div class=\"atist_view\" style=\"display:none;\">\n",
      "<ul>\n",
      "<li><a class=\"ellipsis\" href=\"javascript:melon.link.goArtistDetail('2866523');\" title=\"미란이 (Mirani) 페이지 이동\">미란이 (Mirani)</a></li>\n",
      "<li><a class=\"ellipsis\" href=\"javascript:melon.link.goArtistDetail('2747971');\" title=\"먼치맨 페이지 이동\">먼치맨</a></li>\n",
      "<li><a class=\"ellipsis\" href=\"javascript:melon.link.goArtistDetail('1703507');\" title=\"Khundi Panda 페이지 이동\">Khundi Panda</a></li>\n",
      "<li><a class=\"ellipsis\" href=\"javascript:melon.link.goArtistDetail('2745413');\" title=\"머쉬베놈 (MUSHVENOM) 페이지 이동\">머쉬베놈 (MUSHVENOM)</a></li>\n",
      "</ul>\n",
      "</div>\n",
      "</div>\n",
      "</div>\n",
      "</div></td>\n",
      "<td><div class=\"wrap\">\n",
      "<div class=\"wrap_song_info\">\n",
      "<div class=\"ellipsis rank03\">\n",
      "<a href=\"javascript:melon.link.goAlbumDetail('10521601');\" title=\"쇼미더머니 9 Episode 1 - 페이지 이동\">쇼미더머니 9 Episode 1</a>\n",
      "</div>\n",
      "</div>\n",
      "</div></td>\n",
      "<td><div class=\"wrap\">\n",
      "<button class=\"button_etc like\" data-song-menuid=\"19030101\" data-song-no=\"33077590\" title=\"VVS (Feat. JUSTHIS) (Prod. GroovyRoom) 좋아요\" type=\"button\"><span class=\"odd_span\">좋아요</span>\n",
      "<span class=\"cnt\">\n",
      "<span class=\"none\">총건수</span>\n",
      "154,939</span></button>\n",
      "</div></td>\n",
      "<td><div class=\"wrap t_center\">\n",
      "<button class=\"button_icons play\" onclick=\"melon.play.playSong('19030101',33077590);\" title=\"듣기\" type=\"button\"><span class=\"none\">듣기</span></button>\n",
      "</div></td>\n",
      "<td><div class=\"wrap t_center\">\n",
      "<button class=\"button_icons scrap\" onclick=\"melon.play.addPlayList('33077590');\" title=\"담기\" type=\"button\"><span class=\"none\">담기</span></button>\n",
      "</div></td>\n",
      "<td><div class=\"wrap t_center\">\n",
      "<button class=\"button_icons download\" onclick=\"melon.buy.goBuyProduct('frm', '33077590', '3C0001', '','0', '19030101');\" title=\"다운로드\" type=\"button\"><span class=\"none\">다운로드</span></button>\n",
      "</div></td>\n",
      "<td><div class=\"wrap t_center\">\n",
      "<button class=\"button_icons video disabled\" disabled=\"disabled\" onclick=\"melon.link.goMvDetail('19030101', '33077590','song');\" title=\"뮤직비디오\" type=\"button\"><span class=\"none\">뮤직비디오</span></button>\n",
      "</div></td>\n",
      "</tr>\n"
     ]
    }
   ],
   "source": [
    "# 100개의 노래 태그 찾기\n",
    "songs = soup.select('table>tbody>tr')\n",
    "print(len(songs))\n",
    "print(songs[0])"
   ]
  },
  {
   "cell_type": "code",
   "execution_count": 27,
   "metadata": {},
   "outputs": [],
   "source": [
    "# 한 개의 곡 정보 지정하기\n",
    "song = songs[0]"
   ]
  },
  {
   "cell_type": "code",
   "execution_count": 31,
   "metadata": {},
   "outputs": [
    {
     "data": {
      "text/plain": [
       "16"
      ]
     },
     "execution_count": 31,
     "metadata": {},
     "output_type": "execute_result"
    }
   ],
   "source": [
    "# 곡 제목 찾기 1\n",
    "title = song.select('a')\n",
    "len(title)"
   ]
  },
  {
   "cell_type": "code",
   "execution_count": 32,
   "metadata": {},
   "outputs": [
    {
     "data": {
      "text/plain": [
       "5"
      ]
     },
     "execution_count": 32,
     "metadata": {},
     "output_type": "execute_result"
    }
   ],
   "source": [
    "# 곡 제목 찾기 2\n",
    "title = song.select('span>a')\n",
    "len(title)"
   ]
  },
  {
   "cell_type": "code",
   "execution_count": 35,
   "metadata": {},
   "outputs": [
    {
     "data": {
      "text/plain": [
       "[<a href=\"javascript:melon.play.playSong('19030101',33077590);\" title=\"VVS (Feat. JUSTHIS) (Prod. GroovyRoom) 재생\">VVS (Feat. JUSTHIS) (Prod. GroovyRoom)</a>]"
      ]
     },
     "execution_count": 35,
     "metadata": {},
     "output_type": "execute_result"
    }
   ],
   "source": [
    "# 곡 제목 찾기 3\n",
    "title = song.select('div.ellipsis.rank01>span>a')\n",
    "title"
   ]
  },
  {
   "cell_type": "code",
   "execution_count": 36,
   "metadata": {},
   "outputs": [
    {
     "data": {
      "text/plain": [
       "'VVS (Feat. JUSTHIS) (Prod. GroovyRoom)'"
      ]
     },
     "execution_count": 36,
     "metadata": {},
     "output_type": "execute_result"
    }
   ],
   "source": [
    "# 곡 제목 가져오기\n",
    "title = song.select('div.ellipsis.rank01>span>a')[0].text\n",
    "title"
   ]
  },
  {
   "cell_type": "code",
   "execution_count": 40,
   "metadata": {},
   "outputs": [
    {
     "data": {
      "text/plain": [
       "4"
      ]
     },
     "execution_count": 40,
     "metadata": {},
     "output_type": "execute_result"
    }
   ],
   "source": [
    "# 가수 찾기\n",
    "singer = song.select('div.ellipsis.rank02>a')\n",
    "len(singer)"
   ]
  },
  {
   "cell_type": "code",
   "execution_count": 41,
   "metadata": {},
   "outputs": [
    {
     "data": {
      "text/plain": [
       "[<a href=\"javascript:melon.link.goArtistDetail('2866523');\" title=\"미란이 (Mirani) - 페이지 이동\">미란이 (Mirani)</a>,\n",
       " <a href=\"javascript:melon.link.goArtistDetail('2747971');\" title=\"먼치맨 - 페이지 이동\">먼치맨</a>,\n",
       " <a href=\"javascript:melon.link.goArtistDetail('1703507');\" title=\"Khundi Panda - 페이지 이동\">Khundi Panda</a>,\n",
       " <a href=\"javascript:melon.link.goArtistDetail('2745413');\" title=\"머쉬베놈 (MUSHVENOM) - 페이지 이동\">머쉬베놈 (MUSHVENOM)</a>]"
      ]
     },
     "execution_count": 41,
     "metadata": {},
     "output_type": "execute_result"
    }
   ],
   "source": [
    "singer"
   ]
  },
  {
   "cell_type": "code",
   "execution_count": 42,
   "metadata": {},
   "outputs": [
    {
     "data": {
      "text/plain": [
       "'미란이 (Mirani)'"
      ]
     },
     "execution_count": 42,
     "metadata": {},
     "output_type": "execute_result"
    }
   ],
   "source": [
    "singer = song.select('div.ellipsis.rank02>a')[0].text\n",
    "singer"
   ]
  },
  {
   "cell_type": "code",
   "execution_count": 43,
   "metadata": {
    "collapsed": true,
    "jupyter": {
     "outputs_hidden": true
    }
   },
   "outputs": [
    {
     "name": "stdout",
     "output_type": "stream",
     "text": [
      "VVS (Feat. JUSTHIS) (Prod. GroovyRoom)|미란이 (Mirani)\n",
      "밤하늘의 별을(2020)|경서\n",
      "Dynamite|방탄소년단\n",
      "잠이 오질 않네요|장범준\n",
      "Lovesick Girls|BLACKPINK\n",
      "힘든 건 사랑이 아니다|임창정\n",
      "내일이 오면 (Feat. 기리보이, BIG Naughty (서동현))|릴보이 (lIlBOI)\n",
      "취기를 빌려 (취향저격 그녀 X 산들)|산들\n",
      "Life Goes On|방탄소년단\n",
      "오래된 노래|스탠딩 에그\n",
      "CREDIT (Feat. 염따, 기리보이, Zion.T)|릴보이 (lIlBOI)\n",
      "Savage Love (Laxed - Siren Beat) (BTS Remix)|Jawsh 685\n",
      "내 마음이 움찔했던 순간 (취향저격 그녀 X 규현)|규현 (KYUHYUN)\n",
      "나랑 같이 걸을래 (바른연애 길잡이 X 적재)|적재\n",
      "에잇(Prod.&Feat. SUGA of BTS)|아이유\n",
      "어떻게 이별까지 사랑하겠어, 널 사랑하는 거지|AKMU (악동뮤지션)\n",
      "화(火花)|(여자)아이들\n",
      "혼술하고 싶은 밤|벤\n",
      "Achoo (Feat. pH-1, HAON) (Prod. GroovyRoom)|미란이 (Mirani)\n",
      "When We Disco (Duet with 선미)|박진영\n",
      "늦은 밤 너의 집 앞 골목길에서|노을\n",
      "흔들리는 꽃들 속에서 네 샴푸향이 느껴진거야|장범준\n",
      "Blueming|아이유\n",
      "모든 날, 모든 순간 (Every day, Every Moment)|폴킴\n",
      "어떻게 지내 (Prod. By VAN.C)|오반 (OVAN)\n",
      "ON AIR (Feat. 로꼬, 박재범 & GRAY)|릴보이 (lIlBOI)\n",
      "Freak (Prod. Slom)|릴보이 (lIlBOI)\n",
      "How You Like That|BLACKPINK\n",
      "METEOR|창모 (CHANGMO)\n",
      "아로하|조정석\n",
      "서면역에서|순순희\n",
      "뿌리 (Feat. JUSTHIS) (Prod. GroovyRoom)|Khundi Panda\n",
      "딩가딩가 (Dingga)|마마무 (Mamamoo)\n",
      "Dolphin|오마이걸 (OH MY GIRL)\n",
      "사실 나는 (Feat.전건호)|경서예지\n",
      "마음을 드려요|아이유\n",
      "오늘도 빛나는 너에게 (To You My Light) (Feat.이라온)|마크툽 (MAKTUB)\n",
      "DON'T TOUCH ME|환불원정대\n",
      "그날에 나는 맘이 편했을까|이예준\n",
      "작은 것들을 위한 시 (Boy With Luv) (Feat. Halsey)|방탄소년단\n",
      "거짓말이라도 해서 널 보고싶어|백지영\n",
      "I CAN’T STOP ME|TWICE (트와이스)\n",
      "Memories|Maroon 5\n",
      "악역 (Feat. 이하이 & 사이먼 도미닉) (Prod. 코드 쿤스트)|스윙스\n",
      "마리아 (Maria)|화사 (Hwa Sa)\n",
      "우리 왜 헤어져야 해|신예영\n",
      "시작|가호 (Gaho)\n",
      "사랑은 지날수록 더욱 선명하게 남아|전상근\n",
      "뻔한남자|이승기\n",
      "2002|Anne-Marie\n",
      "봄날|방탄소년단\n",
      "홀로|이하이\n",
      "한잔이면 지워질까|황인욱\n",
      "살짝 설렜어 (Nonstop)|오마이걸 (OH MY GIRL)\n",
      "옜다 (Take It) (Prod. GroovyRoom)|머쉬베놈 (MUSHVENOM)\n",
      "눈누난나 (NUNU NANA)|제시 (Jessi)\n",
      "가을밤에 든 생각|잔나비\n",
      "Dance Monkey|Tones And I\n",
      "고독하구만 (Feat. 수퍼비) (Prod. GroovyRoom)|머쉬베놈 (MUSHVENOM)\n",
      "Downtown Baby|블루 (BLOO)\n",
      "Snowman|Sia\n",
      "사랑 못해, 남들 쉽게 다 하는 거|먼데이 키즈 (Monday Kiz)\n",
      "안녕|폴킴\n",
      "너를 만나|폴킴\n",
      "소확행|임창정\n",
      "Panorama|IZ*ONE (아이즈원)\n",
      "VVS (H1GHR Remix) (Feat. JUSTHIS) (Prod. GroovyRoom)|pH-1\n",
      "What Do I Call You|태연 (TAEYEON)\n",
      "너의 번호를 누르고 (Prod. 영화처럼)|#안녕\n",
      "Love poem|아이유\n",
      "처음처럼|엠씨더맥스 (M.C the MAX)\n",
      "잘할게|이승기\n",
      "나로 바꾸자 (duet with JYP)|비\n",
      "우린 어쩌다 헤어진 걸까|허각\n",
      "행복해|송하예\n",
      "이제 나만 믿어요|임영웅\n",
      "Achoo Remix (Feat. 미란이(Mirani), pH-1, 먼치맨, Skinny Brown, Louie, 릴러말즈 (Leellamarz), Ourealgoat (아우릴고트), Dbo (디보), 식케이 (Sik-K), 오왼 (Owen), Kid Milli, 스윙스, Nudeboi Seo, TRADE L, 쿠기 (Coogie), Blase (블라세), sokodomo, Khundi Panda, 휘민 (Lil Moshpit), Khakii (카키))|그루비룸 (GroovyRoom)\n",
      "사랑하게 될 줄 알았어|전미도\n",
      "여백의 미 (Feat. Jessi, JUSTHIS) (Prod. GroovyRoom)|머쉬베놈 (MUSHVENOM)\n",
      "Don't Start Now|Dua Lipa\n",
      "Santa Tell Me|Ariana Grande\n",
      "All I Want For Christmas Is You|Mariah Carey\n",
      "너도 아는|폴킴\n",
      "별을 담은 시 (Ode To The Stars)|마크툽 (MAKTUB)\n",
      "12:45 (Stripped)|Etham\n",
      "아무노래|지코 (ZICO)\n",
      "Bad Boy|청하\n",
      "12월의 어느 겨울…|윤도 (YoonDo)\n",
      "다시 여기 바닷가|싹쓰리 (유두래곤, 린다G, 비룡)\n",
      "미리 메리 크리스마스 (Feat. 천둥 Of MBLAQ)|아이유\n",
      "Paris In The Rain|Lauv\n",
      "ON|방탄소년단\n",
      "Maniac|Conan Gray\n",
      "Black Mamba|aespa\n",
      "놓아줘 (with 태연)|Crush\n",
      "적외선 카메라|원슈타인\n",
      "For You (Feat. Crush)|이하이\n",
      "원해 (Feat. 팔로알토) (Prod. 코드 쿤스트)|스윙스\n",
      "가다 (Feat. 사이먼 도미닉, The Quiett) (Prod. SLO)|머쉬베놈 (MUSHVENOM)\n",
      "Blue & Grey|방탄소년단\n"
     ]
    }
   ],
   "source": [
    "# 중요\n",
    "# 멜론 100위 노래순위 정보 가져오기\n",
    "for song in songs :\n",
    "    title = song.select('div.ellipsis.rank01>span>a')[0].text\n",
    "    singer = song.select('div.ellipsis.rank02>a')[0].text\n",
    "    print(title, singer, sep='|')"
   ]
  },
  {
   "cell_type": "code",
   "execution_count": 45,
   "metadata": {
    "collapsed": true,
    "jupyter": {
     "outputs_hidden": true
    }
   },
   "outputs": [
    {
     "name": "stdout",
     "output_type": "stream",
     "text": [
      "VVS (Feat. JUSTHIS) (Prod. GroovyRoom)|미란이 (Mirani)\n",
      "밤하늘의 별을(2020)|경서\n",
      "Dynamite|방탄소년단\n",
      "잠이 오질 않네요|장범준\n",
      "Lovesick Girls|BLACKPINK\n",
      "힘든 건 사랑이 아니다|임창정\n",
      "내일이 오면 (Feat. 기리보이, BIG Naughty (서동현))|릴보이 (lIlBOI)\n",
      "취기를 빌려 (취향저격 그녀 X 산들)|산들\n",
      "Life Goes On|방탄소년단\n",
      "오래된 노래|스탠딩 에그\n",
      "CREDIT (Feat. 염따, 기리보이, Zion.T)|릴보이 (lIlBOI)\n",
      "Savage Love (Laxed - Siren Beat) (BTS Remix)|Jawsh 685\n",
      "내 마음이 움찔했던 순간 (취향저격 그녀 X 규현)|규현 (KYUHYUN)\n",
      "나랑 같이 걸을래 (바른연애 길잡이 X 적재)|적재\n",
      "에잇(Prod.&Feat. SUGA of BTS)|아이유\n",
      "어떻게 이별까지 사랑하겠어, 널 사랑하는 거지|AKMU (악동뮤지션)\n",
      "화(火花)|(여자)아이들\n",
      "혼술하고 싶은 밤|벤\n",
      "Achoo (Feat. pH-1, HAON) (Prod. GroovyRoom)|미란이 (Mirani)\n",
      "When We Disco (Duet with 선미)|박진영\n",
      "늦은 밤 너의 집 앞 골목길에서|노을\n",
      "흔들리는 꽃들 속에서 네 샴푸향이 느껴진거야|장범준\n",
      "Blueming|아이유\n",
      "모든 날, 모든 순간 (Every day, Every Moment)|폴킴\n",
      "어떻게 지내 (Prod. By VAN.C)|오반 (OVAN)\n",
      "ON AIR (Feat. 로꼬, 박재범 & GRAY)|릴보이 (lIlBOI)\n",
      "Freak (Prod. Slom)|릴보이 (lIlBOI)\n",
      "How You Like That|BLACKPINK\n",
      "METEOR|창모 (CHANGMO)\n",
      "아로하|조정석\n",
      "서면역에서|순순희\n",
      "뿌리 (Feat. JUSTHIS) (Prod. GroovyRoom)|Khundi Panda\n",
      "딩가딩가 (Dingga)|마마무 (Mamamoo)\n",
      "Dolphin|오마이걸 (OH MY GIRL)\n",
      "사실 나는 (Feat.전건호)|경서예지\n",
      "마음을 드려요|아이유\n",
      "오늘도 빛나는 너에게 (To You My Light) (Feat.이라온)|마크툽 (MAKTUB)\n",
      "DON'T TOUCH ME|환불원정대\n",
      "그날에 나는 맘이 편했을까|이예준\n",
      "작은 것들을 위한 시 (Boy With Luv) (Feat. Halsey)|방탄소년단\n",
      "거짓말이라도 해서 널 보고싶어|백지영\n",
      "I CAN’T STOP ME|TWICE (트와이스)\n",
      "Memories|Maroon 5\n",
      "악역 (Feat. 이하이 & 사이먼 도미닉) (Prod. 코드 쿤스트)|스윙스\n",
      "마리아 (Maria)|화사 (Hwa Sa)\n",
      "우리 왜 헤어져야 해|신예영\n",
      "시작|가호 (Gaho)\n",
      "사랑은 지날수록 더욱 선명하게 남아|전상근\n",
      "뻔한남자|이승기\n",
      "2002|Anne-Marie\n",
      "봄날|방탄소년단\n",
      "홀로|이하이\n",
      "한잔이면 지워질까|황인욱\n",
      "살짝 설렜어 (Nonstop)|오마이걸 (OH MY GIRL)\n",
      "옜다 (Take It) (Prod. GroovyRoom)|머쉬베놈 (MUSHVENOM)\n",
      "눈누난나 (NUNU NANA)|제시 (Jessi)\n",
      "가을밤에 든 생각|잔나비\n",
      "Dance Monkey|Tones And I\n",
      "고독하구만 (Feat. 수퍼비) (Prod. GroovyRoom)|머쉬베놈 (MUSHVENOM)\n",
      "Downtown Baby|블루 (BLOO)\n",
      "Snowman|Sia\n",
      "사랑 못해, 남들 쉽게 다 하는 거|먼데이 키즈 (Monday Kiz)\n",
      "안녕|폴킴\n",
      "너를 만나|폴킴\n",
      "소확행|임창정\n",
      "Panorama|IZ*ONE (아이즈원)\n",
      "VVS (H1GHR Remix) (Feat. JUSTHIS) (Prod. GroovyRoom)|pH-1\n",
      "What Do I Call You|태연 (TAEYEON)\n",
      "너의 번호를 누르고 (Prod. 영화처럼)|#안녕\n",
      "Love poem|아이유\n",
      "처음처럼|엠씨더맥스 (M.C the MAX)\n",
      "잘할게|이승기\n",
      "나로 바꾸자 (duet with JYP)|비\n",
      "우린 어쩌다 헤어진 걸까|허각\n",
      "행복해|송하예\n",
      "이제 나만 믿어요|임영웅\n",
      "Achoo Remix (Feat. 미란이(Mirani), pH-1, 먼치맨, Skinny Brown, Louie, 릴러말즈 (Leellamarz), Ourealgoat (아우릴고트), Dbo (디보), 식케이 (Sik-K), 오왼 (Owen), Kid Milli, 스윙스, Nudeboi Seo, TRADE L, 쿠기 (Coogie), Blase (블라세), sokodomo, Khundi Panda, 휘민 (Lil Moshpit), Khakii (카키))|그루비룸 (GroovyRoom)\n",
      "사랑하게 될 줄 알았어|전미도\n",
      "여백의 미 (Feat. Jessi, JUSTHIS) (Prod. GroovyRoom)|머쉬베놈 (MUSHVENOM)\n",
      "Don't Start Now|Dua Lipa\n",
      "Santa Tell Me|Ariana Grande\n",
      "All I Want For Christmas Is You|Mariah Carey\n",
      "너도 아는|폴킴\n",
      "별을 담은 시 (Ode To The Stars)|마크툽 (MAKTUB)\n",
      "12:45 (Stripped)|Etham\n",
      "아무노래|지코 (ZICO)\n",
      "Bad Boy|청하\n",
      "12월의 어느 겨울…|윤도 (YoonDo)\n",
      "다시 여기 바닷가|싹쓰리 (유두래곤, 린다G, 비룡)\n",
      "미리 메리 크리스마스 (Feat. 천둥 Of MBLAQ)|아이유\n",
      "Paris In The Rain|Lauv\n",
      "ON|방탄소년단\n",
      "Maniac|Conan Gray\n",
      "Black Mamba|aespa\n",
      "놓아줘 (with 태연)|Crush\n",
      "적외선 카메라|원슈타인\n",
      "For You (Feat. Crush)|이하이\n",
      "원해 (Feat. 팔로알토) (Prod. 코드 쿤스트)|스윙스\n",
      "가다 (Feat. 사이먼 도미닉, The Quiett) (Prod. SLO)|머쉬베놈 (MUSHVENOM)\n",
      "Blue & Grey|방탄소년단\n"
     ]
    }
   ],
   "source": [
    "# 중요\n",
    "# 멜론 인기차트 중 상위 100곡 크롤링 (정리)\n",
    "from selenium import webdriver\n",
    "driver = webdriver.Chrome('./chromedriver_win32/chromedriver.exe')\n",
    "url = 'http://www.melon.com/chart/index.htm'\n",
    "driver.get(url)\n",
    "\n",
    "from bs4 import BeautifulSoup\n",
    "html = driver.page_source\n",
    "soup = BeautifulSoup(html, 'html.parser')\n",
    "\n",
    "songs = soup.select('table>tbody>tr')\n",
    "for song in songs :\n",
    "    title = song.select('div.ellipsis.rank01>span>a')[0].text\n",
    "    singer = song.select('div.ellipsis.rank02>a')[0].text\n",
    "    print(title, singer, sep='|')"
   ]
  },
  {
   "cell_type": "code",
   "execution_count": 49,
   "metadata": {
    "collapsed": true,
    "jupyter": {
     "outputs_hidden": true
    }
   },
   "outputs": [
    {
     "name": "stdout",
     "output_type": "stream",
     "text": [
      "VVS (Feat. JUSTHIS) (Prod. GroovyRoom)|미란이 (Mirani)\n",
      "밤하늘의 별을(2020)|경서\n",
      "Dynamite|방탄소년단\n",
      "잠이 오질 않네요|장범준\n",
      "Lovesick Girls|BLACKPINK\n",
      "힘든 건 사랑이 아니다|임창정\n",
      "내일이 오면 (Feat. 기리보이, BIG Naughty (서동현))|릴보이 (lIlBOI)\n",
      "취기를 빌려 (취향저격 그녀 X 산들)|산들\n",
      "Life Goes On|방탄소년단\n",
      "오래된 노래|스탠딩 에그\n",
      "CREDIT (Feat. 염따, 기리보이, Zion.T)|릴보이 (lIlBOI)\n",
      "Savage Love (Laxed - Siren Beat) (BTS Remix)|Jawsh 685\n",
      "내 마음이 움찔했던 순간 (취향저격 그녀 X 규현)|규현 (KYUHYUN)\n",
      "나랑 같이 걸을래 (바른연애 길잡이 X 적재)|적재\n",
      "에잇(Prod.&Feat. SUGA of BTS)|아이유\n",
      "어떻게 이별까지 사랑하겠어, 널 사랑하는 거지|AKMU (악동뮤지션)\n",
      "화(火花)|(여자)아이들\n",
      "혼술하고 싶은 밤|벤\n",
      "Achoo (Feat. pH-1, HAON) (Prod. GroovyRoom)|미란이 (Mirani)\n",
      "When We Disco (Duet with 선미)|박진영\n",
      "늦은 밤 너의 집 앞 골목길에서|노을\n",
      "흔들리는 꽃들 속에서 네 샴푸향이 느껴진거야|장범준\n",
      "Blueming|아이유\n",
      "모든 날, 모든 순간 (Every day, Every Moment)|폴킴\n",
      "어떻게 지내 (Prod. By VAN.C)|오반 (OVAN)\n",
      "ON AIR (Feat. 로꼬, 박재범 & GRAY)|릴보이 (lIlBOI)\n",
      "Freak (Prod. Slom)|릴보이 (lIlBOI)\n",
      "How You Like That|BLACKPINK\n",
      "METEOR|창모 (CHANGMO)\n",
      "아로하|조정석\n",
      "서면역에서|순순희\n",
      "뿌리 (Feat. JUSTHIS) (Prod. GroovyRoom)|Khundi Panda\n",
      "딩가딩가 (Dingga)|마마무 (Mamamoo)\n",
      "Dolphin|오마이걸 (OH MY GIRL)\n",
      "사실 나는 (Feat.전건호)|경서예지\n",
      "마음을 드려요|아이유\n",
      "오늘도 빛나는 너에게 (To You My Light) (Feat.이라온)|마크툽 (MAKTUB)\n",
      "DON'T TOUCH ME|환불원정대\n",
      "그날에 나는 맘이 편했을까|이예준\n",
      "작은 것들을 위한 시 (Boy With Luv) (Feat. Halsey)|방탄소년단\n",
      "거짓말이라도 해서 널 보고싶어|백지영\n",
      "I CAN’T STOP ME|TWICE (트와이스)\n",
      "Memories|Maroon 5\n",
      "악역 (Feat. 이하이 & 사이먼 도미닉) (Prod. 코드 쿤스트)|스윙스\n",
      "마리아 (Maria)|화사 (Hwa Sa)\n",
      "우리 왜 헤어져야 해|신예영\n",
      "시작|가호 (Gaho)\n",
      "사랑은 지날수록 더욱 선명하게 남아|전상근\n",
      "뻔한남자|이승기\n",
      "2002|Anne-Marie\n",
      "봄날|방탄소년단\n",
      "홀로|이하이\n",
      "한잔이면 지워질까|황인욱\n",
      "살짝 설렜어 (Nonstop)|오마이걸 (OH MY GIRL)\n",
      "옜다 (Take It) (Prod. GroovyRoom)|머쉬베놈 (MUSHVENOM)\n",
      "눈누난나 (NUNU NANA)|제시 (Jessi)\n",
      "가을밤에 든 생각|잔나비\n",
      "Dance Monkey|Tones And I\n",
      "고독하구만 (Feat. 수퍼비) (Prod. GroovyRoom)|머쉬베놈 (MUSHVENOM)\n",
      "Downtown Baby|블루 (BLOO)\n",
      "Snowman|Sia\n",
      "사랑 못해, 남들 쉽게 다 하는 거|먼데이 키즈 (Monday Kiz)\n",
      "안녕|폴킴\n",
      "너를 만나|폴킴\n",
      "소확행|임창정\n",
      "Panorama|IZ*ONE (아이즈원)\n",
      "VVS (H1GHR Remix) (Feat. JUSTHIS) (Prod. GroovyRoom)|pH-1\n",
      "What Do I Call You|태연 (TAEYEON)\n",
      "너의 번호를 누르고 (Prod. 영화처럼)|#안녕\n",
      "Love poem|아이유\n",
      "처음처럼|엠씨더맥스 (M.C the MAX)\n",
      "잘할게|이승기\n",
      "나로 바꾸자 (duet with JYP)|비\n",
      "우린 어쩌다 헤어진 걸까|허각\n",
      "행복해|송하예\n",
      "이제 나만 믿어요|임영웅\n",
      "Achoo Remix (Feat. 미란이(Mirani), pH-1, 먼치맨, Skinny Brown, Louie, 릴러말즈 (Leellamarz), Ourealgoat (아우릴고트), Dbo (디보), 식케이 (Sik-K), 오왼 (Owen), Kid Milli, 스윙스, Nudeboi Seo, TRADE L, 쿠기 (Coogie), Blase (블라세), sokodomo, Khundi Panda, 휘민 (Lil Moshpit), Khakii (카키))|그루비룸 (GroovyRoom)\n",
      "사랑하게 될 줄 알았어|전미도\n",
      "여백의 미 (Feat. Jessi, JUSTHIS) (Prod. GroovyRoom)|머쉬베놈 (MUSHVENOM)\n",
      "Don't Start Now|Dua Lipa\n",
      "Santa Tell Me|Ariana Grande\n",
      "All I Want For Christmas Is You|Mariah Carey\n",
      "너도 아는|폴킴\n",
      "별을 담은 시 (Ode To The Stars)|마크툽 (MAKTUB)\n",
      "12:45 (Stripped)|Etham\n",
      "아무노래|지코 (ZICO)\n",
      "Bad Boy|청하\n",
      "12월의 어느 겨울…|윤도 (YoonDo)\n",
      "다시 여기 바닷가|싹쓰리 (유두래곤, 린다G, 비룡)\n",
      "미리 메리 크리스마스 (Feat. 천둥 Of MBLAQ)|아이유\n",
      "Paris In The Rain|Lauv\n",
      "ON|방탄소년단\n",
      "Maniac|Conan Gray\n",
      "Black Mamba|aespa\n",
      "놓아줘 (with 태연)|Crush\n",
      "적외선 카메라|원슈타인\n",
      "For You (Feat. Crush)|이하이\n",
      "원해 (Feat. 팔로알토) (Prod. 코드 쿤스트)|스윙스\n",
      "가다 (Feat. 사이먼 도미닉, The Quiett) (Prod. SLO)|머쉬베놈 (MUSHVENOM)\n",
      "Blue & Grey|방탄소년단\n"
     ]
    }
   ],
   "source": [
    "# 중요\n",
    "# 멜론 인기차트 중 상위 100곡 크롤링 (selenium만 활용)\n",
    "driver = webdriver.Chrome('./chromedriver_win32/chromedriver.exe')\n",
    "url = 'http://www.melon.com/chart/index.htm'\n",
    "driver.get(url)\n",
    "\n",
    "songs = driver.find_elements_by_css_selector('table>tbody>tr')\n",
    "for song in songs:\n",
    "    title = song.find_elements_by_css_selector('div.ellipsis.rank01>span>a')[0].text\n",
    "    singer = song.find_elements_by_css_selector('div.ellipsis.rank02>a')[0].text\n",
    "    print(title, singer, sep='|')"
   ]
  },
  {
   "cell_type": "markdown",
   "metadata": {},
   "source": [
    "#### (표) 크롤링 방식의 장단점 비교\n",
    "\n",
    "||**Selenium + BeautifulSoup**|**Selenium만 이용**|\n",
    "|:---:|:---:|:---:|\n",
    "|**웹페이지 접속**|**HTML 정보 다운로드 후 브라우저 영향 없음**|**웹페이지 연결 유지 필요**|\n",
    "|**웹페이지 동작**|**불가능**|**클릭, 입력 등 조작 가능**|\n",
    "|**크롤링 속도**|**빠름**|**느림**|"
   ]
  }
 ],
 "metadata": {
  "kernelspec": {
   "display_name": "Python 3",
   "language": "python",
   "name": "python3"
  },
  "language_info": {
   "codemirror_mode": {
    "name": "ipython",
    "version": 3
   },
   "file_extension": ".py",
   "mimetype": "text/x-python",
   "name": "python",
   "nbconvert_exporter": "python",
   "pygments_lexer": "ipython3",
   "version": "3.6.11"
  }
 },
 "nbformat": 4,
 "nbformat_minor": 4
}
